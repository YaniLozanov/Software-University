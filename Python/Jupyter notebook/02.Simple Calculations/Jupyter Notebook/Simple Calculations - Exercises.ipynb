{
 "cells": [
  {
   "cell_type": "code",
   "execution_count": 1,
   "metadata": {},
   "outputs": [],
   "source": [
    "%matplotlib inline"
   ]
  },
  {
   "cell_type": "markdown",
   "metadata": {},
   "source": [
    "<h1 align=\"center\">Simple-Calculations-Exercises</h1>"
   ]
  },
  {
   "cell_type": "markdown",
   "metadata": {},
   "source": [
    "<h2>01.Square Area</h2>\n",
    "\n",
    "The first task on this topic is to write a console program that introduces an **integer a**\n",
    "calculates the face of a square with **side a**. The task is trivially easy: you enter a number from the console,\n",
    "multiply it by yourself and print the result of the console."
   ]
  },
  {
   "cell_type": "code",
   "execution_count": 2,
   "metadata": {
    "scrolled": true
   },
   "outputs": [
    {
     "name": "stdout",
     "output_type": "stream",
     "text": [
      "5\n",
      "25.0\n"
     ]
    }
   ],
   "source": [
    "a = float(input())\n",
    "\n",
    "area = a * a\n",
    "\n",
    "print(area)"
   ]
  },
  {
   "cell_type": "markdown",
   "metadata": {},
   "source": [
    "<h2>02.Inches to Centimeters</h2>\n",
    "\n",
    "Write a program that reads a console number (not necessarily a whole) and converts the number **from inches in centimeters**. For this purpose, **it multiplies the inches by 2.54** (because 1 inch = 2.54 centimeters)."
   ]
  },
  {
   "cell_type": "code",
   "execution_count": 3,
   "metadata": {
    "scrolled": true
   },
   "outputs": [
    {
     "name": "stdout",
     "output_type": "stream",
     "text": [
      "inches = 5\n",
      "Centimeters =  12.7\n"
     ]
    }
   ],
   "source": [
    "inches = float(input('inches = '))\n",
    "\n",
    "centimeters = inches * 2.54\n",
    "\n",
    "print('Centimeters = ',centimeters)"
   ]
  },
  {
   "cell_type": "markdown",
   "metadata": {},
   "source": [
    "<h2>03.Greeting by Name</h2>\n",
    "\n",
    "Write a program that reads a person's name from the console and prints \"**Hello, (name)!**\",\n",
    "Where **(name) is the previously entered name**."
   ]
  },
  {
   "cell_type": "code",
   "execution_count": 5,
   "metadata": {},
   "outputs": [
    {
     "name": "stdout",
     "output_type": "stream",
     "text": [
      "Yani\n",
      "Hello, Yani!\n"
     ]
    }
   ],
   "source": [
    "name = input()\n",
    "\n",
    "print(f'Hello, {name}!')"
   ]
  },
  {
   "cell_type": "markdown",
   "metadata": {},
   "source": [
    "<h2>04.Concatenate Data</h2>\n",
    "\n",
    "Write a Python program that reads from the console **name**, **surname**, **age**, and **city** and prints a message from type: \"You are (firstName), (lastName), (age) years old person from (town);\""
   ]
  },
  {
   "cell_type": "code",
   "execution_count": 7,
   "metadata": {},
   "outputs": [
    {
     "name": "stdout",
     "output_type": "stream",
     "text": [
      "Yani\n",
      "Lozanov\n",
      "21\n",
      "Plovdiv\n",
      "You are Yani Lozanov, a 21-years old person from Plovdiv.\n"
     ]
    }
   ],
   "source": [
    "first_name = input()\n",
    "last_name = input()\n",
    "age = int(input())\n",
    "town = input()\n",
    "\n",
    "print(f\"You are {first_name} {last_name}, a {age}-years old person from {town}.\")\n"
   ]
  },
  {
   "cell_type": "markdown",
   "metadata": {},
   "source": [
    "<h2>05. Trapeziod Area</h2>\n",
    "\n",
    "Write a program that reads from the console three **real numbers** b1, b2 and h and calculates the **trapeze face** with bases b1 and b2 and height h.\n",
    "The trapezoidal face formula is **(b1 + b2) * h / 2**."
   ]
  },
  {
   "cell_type": "code",
   "execution_count": 8,
   "metadata": {},
   "outputs": [
    {
     "name": "stdout",
     "output_type": "stream",
     "text": [
      "5\n",
      "5\n",
      "5\n",
      "25.0\n"
     ]
    }
   ],
   "source": [
    "b1 =  float(input())\n",
    "b2 = float(input())\n",
    "h = float(input())\n",
    "\n",
    "area = ((b1 + b2) * h) / 2\n",
    "\n",
    "print(area)"
   ]
  },
  {
   "cell_type": "markdown",
   "metadata": {},
   "source": [
    "<h2>06.Circle Area and Perimeter</h2>\n",
    "\n",
    "Write a program that reads from the console number **r** and calculates and prints the **face and perimeter of a circle** / circle with radius r."
   ]
  },
  {
   "cell_type": "code",
   "execution_count": 1,
   "metadata": {},
   "outputs": [
    {
     "name": "stdout",
     "output_type": "stream",
     "text": [
      "3\n",
      "Area = 28.274333882308138\n",
      "Perimeter = 18.84955592153876\n"
     ]
    }
   ],
   "source": [
    "import math\n",
    "\n",
    "r = float(input())\n",
    "\n",
    "area = math.pi * r * r\n",
    "perimeter = 2 * math.pi * r\n",
    "\n",
    "print(f\"Area = {area}\")\n",
    "print(f\"Perimeter = {perimeter}\")"
   ]
  },
  {
   "cell_type": "markdown",
   "metadata": {},
   "source": [
    "<h2>07.2D Rectangle Area</h2>\n",
    "\n",
    "A rectangle is given with the coordinates of two of its opposite angles (x1, y1) - (x2, y2).\n",
    "Calculate its area and perimeter.\n",
    "The input is read from the console.\n",
    "The numbers **x1, y1, x2** and **y2** are given in one order.\n",
    "The output is output to the console and must contain two rows with one number each - **face and perimeter**.\n",
    "\n"
   ]
  },
  {
   "cell_type": "code",
   "execution_count": 3,
   "metadata": {},
   "outputs": [
    {
     "name": "stdout",
     "output_type": "stream",
     "text": [
      "60\n",
      "20\n",
      "10\n",
      "50\n",
      "1500.0\n",
      "160.0\n"
     ]
    }
   ],
   "source": [
    "x1 = float(input())\n",
    "y1 = float(input())\n",
    "x2 = float(input())\n",
    "y2 = float(input())\n",
    "\n",
    "\n",
    "side_x = abs(x1 - x2)\n",
    "side_y = abs(y1 - y2)\n",
    "\n",
    "area = side_x * side_y\n",
    "perimeter = side_x * 2 + side_y * 2\n",
    "\n",
    "print(area)\n",
    "print(perimeter)"
   ]
  },
  {
   "cell_type": "markdown",
   "metadata": {},
   "source": [
    "<h2>08.Triangle Area</h2>\n",
    "\n",
    "Write a program that reads from the console **side** and triangle **height** and calculates its **face**.\n",
    "Use the face to triangle formula: **area = a * h / 2**.\n",
    "Round the **result to 2 decimal places** using float (\"{0: .2f}\"."
   ]
  },
  {
   "cell_type": "code",
   "execution_count": 4,
   "metadata": {},
   "outputs": [
    {
     "name": "stdout",
     "output_type": "stream",
     "text": [
      "7.75\n",
      "8.45\n",
      "Triangle area =  32.74\n"
     ]
    }
   ],
   "source": [
    "side = float(input())\n",
    "height = float(input())\n",
    "\n",
    "area = (side * height) / 2\n",
    "\n",
    "print(\"Triangle area = \",float(\"{0:.2f}\".format(area)))"
   ]
  },
  {
   "cell_type": "markdown",
   "metadata": {},
   "source": [
    "<h2>09.Celsius to Fahrenheit</h2>\n",
    "\n",
    "Write a program that reads degrees on the **Celsius scale (°C)** and **converts** them to degrees **Fahrenheit** (°F).\n",
    "Look for an appropriate formula on the Internet to make the calculations.\n",
    "**Round the score to 2 decimal places**.\n"
   ]
  },
  {
   "cell_type": "code",
   "execution_count": 5,
   "metadata": {},
   "outputs": [
    {
     "name": "stdout",
     "output_type": "stream",
     "text": [
      "35\n",
      "95.0\n"
     ]
    }
   ],
   "source": [
    "celsius = float(input())\n",
    "\n",
    "fahrenheit = celsius * 9/5 + 32\n",
    "\n",
    "print(float(\"{0:.2f}\".format(fahrenheit)))"
   ]
  },
  {
   "cell_type": "markdown",
   "metadata": {},
   "source": [
    "<h2>10.Radians to Degrees</h2>\n",
    "\n",
    "Write a program that reads an angle in **radians** (rad) and **converts** it into **degrees** (deg).\n",
    "Look for an appropriate formula online.\n",
    "The number π in Python programs is available through **math.pi**.\n",
    "Round the result to **the nearest integer** using round ()."
   ]
  },
  {
   "cell_type": "code",
   "execution_count": 6,
   "metadata": {},
   "outputs": [
    {
     "name": "stdout",
     "output_type": "stream",
     "text": [
      "3.1416\n",
      "180\n"
     ]
    }
   ],
   "source": [
    "import  math\n",
    "\n",
    "radians = float(input())\n",
    "\n",
    "degrees = round((radians * 180) / math.pi)\n",
    "\n",
    "print(degrees)"
   ]
  },
  {
   "cell_type": "markdown",
   "metadata": {},
   "source": [
    "<h2>11.USD to BGN</h2>\n",
    "\n",
    "Write down a program to **convert US Dollars (USD)** **into Bulgarian Leva (BGN)**. Round the score to **2 digits after the decimal point**. Use a fixed exchange rate between **USD and BGN: 1 USD = 1.79549 BGN.**"
   ]
  },
  {
   "cell_type": "code",
   "execution_count": 7,
   "metadata": {},
   "outputs": [
    {
     "name": "stdout",
     "output_type": "stream",
     "text": [
      "35\n",
      "62.84 BGN\n"
     ]
    }
   ],
   "source": [
    "dollars = float(input())\n",
    "\n",
    "leva = dollars * 1.79549\n",
    "\n",
    "print(float(\"{0:.2f}\".format(leva)),\"BGN\")"
   ]
  },
  {
   "cell_type": "markdown",
   "metadata": {},
   "source": [
    "<h2>12.Currency Converter</h2>\n",
    "\n",
    "Write a program for converting money from one currency to another.\n",
    "The following currencies need to be maintained: BGN, USD, EUR, GBP.\n",
    "Use the following fixed exchange rates:\n",
    "\n",
    "**BGN = 1.79549 USD / 1.95583 EUR / 2.53405 GBP**\n",
    "\n",
    "The input is a conversion amount + Input Currency + Output Currency.\n",
    "The output is one number - the converted amount on the above courses, rounded to 2 digits after the decimal point.\n"
   ]
  },
  {
   "cell_type": "code",
   "execution_count": 8,
   "metadata": {},
   "outputs": [
    {
     "name": "stdout",
     "output_type": "stream",
     "text": [
      "20\n",
      "USD\n",
      "BGN\n",
      "35.91 BGN\n"
     ]
    }
   ],
   "source": [
    "amount = float(input())\n",
    "first_currency = input()\n",
    "second_currency = input()\n",
    "\n",
    "result = 0\n",
    "\n",
    "if first_currency == \"BGN\":\n",
    "\n",
    "    if second_currency == \"BGN\":\n",
    "       result = amount * 1\n",
    "\n",
    "    elif second_currency == \"USD\":\n",
    "        result = amount / 1.79549\n",
    "\n",
    "    elif second_currency == \"EUR\":\n",
    "        result = amount / 1.95583\n",
    "\n",
    "    elif second_currency == \"GBP\":\n",
    "        result = amount / 2.53405\n",
    "\n",
    "elif first_currency == \"USD\":\n",
    "\n",
    "    if second_currency == \"BGN\":\n",
    "        result = amount * 1.79549\n",
    "\n",
    "    elif second_currency == \"USD\":\n",
    "        result = amount * 1\n",
    "\n",
    "    elif second_currency == \"EUR\":\n",
    "        result = (amount * 1.79549) / 1.95583\n",
    "\n",
    "    elif second_currency == \"GBP\":\n",
    "        result = (amount * 1.79549) / 2.53405\n",
    "\n",
    "elif first_currency == \"EUR\":\n",
    "\n",
    "    if second_currency == \"BGN\":\n",
    "        result = amount * 1.95583\n",
    "\n",
    "    elif second_currency == \"USD\":\n",
    "        result = (amount * 1.95583 ) / 1.79549\n",
    "\n",
    "    elif second_currency == \"EUR\":\n",
    "        result = amount * 1\n",
    "\n",
    "    elif second_currency == \"GBP\":\n",
    "        result = (amount * 1.95583 ) / 2.53405\n",
    "\n",
    "\n",
    "elif first_currency == \"GBP\":\n",
    "\n",
    "    if second_currency == \"BGN\":\n",
    "        result = amount * 2.53405\n",
    "\n",
    "    elif second_currency == \"USD\":\n",
    "        result = (amount * 2.53405) / 1.79549\n",
    "\n",
    "    elif second_currency == \"EUR\":\n",
    "        result = (amount * 2.53405) / 1.95583\n",
    "\n",
    "    elif second_currency == \"GBP\":\n",
    "        result = amount * 1\n",
    "\n",
    "print(float(\"{0:.2f}\".format(result)),second_currency)"
   ]
  }
 ],
 "metadata": {
  "kernelspec": {
   "display_name": "Python 3",
   "language": "python",
   "name": "python3"
  },
  "language_info": {
   "codemirror_mode": {
    "name": "ipython",
    "version": 3
   },
   "file_extension": ".py",
   "mimetype": "text/x-python",
   "name": "python",
   "nbconvert_exporter": "python",
   "pygments_lexer": "ipython3",
   "version": "3.6.4"
  }
 },
 "nbformat": 4,
 "nbformat_minor": 2
}
