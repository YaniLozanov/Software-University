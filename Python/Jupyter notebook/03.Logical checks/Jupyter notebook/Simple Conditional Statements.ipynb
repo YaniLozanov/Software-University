{
 "cells": [
  {
   "cell_type": "code",
   "execution_count": 1,
   "metadata": {},
   "outputs": [],
   "source": [
    "%matplotlib inline"
   ]
  },
  {
   "cell_type": "markdown",
   "metadata": {},
   "source": [
    "<h1 align=\"center\">Simple Conditional Statements</h1>"
   ]
  },
  {
   "cell_type": "markdown",
   "metadata": {},
   "source": [
    "<h2>01.Excellent Result</h2>"
   ]
  },
  {
   "cell_type": "markdown",
   "metadata": {},
   "source": [
    "\n",
    "The first task of this topic is to write a console program that introduces an estimate (decimal number) and prints \"**Excellent**!\" if the score is **5.50 or higher**."
   ]
  },
  {
   "cell_type": "code",
   "execution_count": 4,
   "metadata": {},
   "outputs": [
    {
     "name": "stdout",
     "output_type": "stream",
     "text": [
      "5.50\n",
      "Excellent!\n"
     ]
    }
   ],
   "source": [
    "num = float(input())\n",
    "\n",
    "if num >= 5.50:\n",
    "    print(\"Excellent!\")"
   ]
  },
  {
   "cell_type": "markdown",
   "metadata": {},
   "source": [
    "<h2>02.Excellent or Not</h2>"
   ]
  },
  {
   "cell_type": "markdown",
   "metadata": {},
   "source": [
    "The next task of this topic is to write a console program that introduces an estimate (decimal number)\n",
    "and prints **\"Excellent!\"** if the score is **5.50 or higher**, or **\"Not Excellent.\"** in the **opposite case**."
   ]
  },
  {
   "cell_type": "code",
   "execution_count": 5,
   "metadata": {},
   "outputs": [
    {
     "name": "stdout",
     "output_type": "stream",
     "text": [
      "5\n",
      "Not excellent.\n"
     ]
    }
   ],
   "source": [
    "grade = float(input())\n",
    "\n",
    "if grade >= 5.50:\n",
    "    print(\"Excellent!\")\n",
    "\n",
    "else:\n",
    "    print(\"Not excellent.\")\n",
    "\n"
   ]
  },
  {
   "cell_type": "markdown",
   "metadata": {},
   "source": [
    "<h1>03.Even or Odd</h1>"
   ]
  },
  {
   "cell_type": "markdown",
   "metadata": {},
   "source": [
    "Write a program that enters an **integer** and print whether it is **even** or **odd**."
   ]
  },
  {
   "cell_type": "code",
   "execution_count": 6,
   "metadata": {},
   "outputs": [
    {
     "name": "stdout",
     "output_type": "stream",
     "text": [
      "2\n",
      "even\n"
     ]
    }
   ],
   "source": [
    "num = int(input())\n",
    "\n",
    "if num % 2 == 0:\n",
    "    print(\"even\")\n",
    "\n",
    "else:\n",
    "    print(\"odd\")"
   ]
  },
  {
   "cell_type": "markdown",
   "metadata": {},
   "source": [
    "<h2>04.Greater Number</h2>"
   ]
  },
  {
   "cell_type": "markdown",
   "metadata": {},
   "source": [
    "Write a program that introduces **two integers** and **prints the larger one**."
   ]
  },
  {
   "cell_type": "markdown",
   "metadata": {},
   "source": [
    "num_1 = int(input())\n",
    "num_2 =  int(input())\n",
    "\n",
    "if num_1 >= num_2:\n",
    "    print(num_1)\n",
    "\n",
    "else:\n",
    "    print(num_2)\n"
   ]
  },
  {
   "cell_type": "markdown",
   "metadata": {},
   "source": [
    "<h2>05.Number 0...9 to Text</h2>"
   ]
  },
  {
   "cell_type": "markdown",
   "metadata": {},
   "source": [
    "Write a program that enters an **integer** in the **range [0 ... 10]** and writes it **in English language**.\n",
    "If the number is **out of range**, it says **\"number too big\"**"
   ]
  },
  {
   "cell_type": "code",
   "execution_count": 10,
   "metadata": {},
   "outputs": [
    {
     "name": "stdout",
     "output_type": "stream",
     "text": [
      "5\n",
      "five\n"
     ]
    }
   ],
   "source": [
    "num = int(input())\n",
    "\n",
    "if num == 0:\n",
    "    print(\"zero\")\n",
    "\n",
    "elif num == 1:\n",
    "    print(\"one\")\n",
    "\n",
    "elif num == 2:\n",
    "    print(\"two\")\n",
    "\n",
    "elif num == 3:\n",
    "    print(\"three\")\n",
    "\n",
    "elif num == 4:\n",
    "    print(\"four\")\n",
    "\n",
    "elif num == 5:\n",
    "    print(\"five\")\n",
    "\n",
    "elif num == 6:\n",
    "    print(\"six\")\n",
    "\n",
    "elif num == 7:\n",
    "    print(\"seven\")\n",
    "\n",
    "elif num == 8:\n",
    "    print(\"eight\")\n",
    "\n",
    "elif num == 9:\n",
    "    print(\"nine\")\n",
    "\n",
    "else:\n",
    "    print(\"number too big\")"
   ]
  },
  {
   "cell_type": "markdown",
   "metadata": {},
   "source": [
    "<h2>06.Bonus Score</h2>"
   ]
  },
  {
   "cell_type": "markdown",
   "metadata": {},
   "source": [
    "An integer number is given. Bonus points based on the rules described below are charged.\n",
    "Yes a program is written that calculates the bonus points for that number and the total number of points with the bonuses.\n",
    "\n",
    "01.If the number is up to 100 inclusive, the bonus points are 5.\n",
    "\n",
    "02.If the number is greater than 100, the bonus points are 20% of the number.\n",
    "\n",
    "03.If the number is greater than 1000, the bonus points are 10% of the number.\n",
    "\n",
    "04.Additional bonus points (charged separately from the previous ones):\n",
    "    \n",
    "    o For even number - + 1 p.\n",
    "    \n",
    "    o For a number that ends at 5 - + 2 points."
   ]
  },
  {
   "cell_type": "code",
   "execution_count": 12,
   "metadata": {},
   "outputs": [
    {
     "name": "stdout",
     "output_type": "stream",
     "text": [
      "5\n",
      "7\n",
      "12\n"
     ]
    }
   ],
   "source": [
    "num = int(input())\n",
    "\n",
    "bonus = 0\n",
    "if num <= 100:\n",
    "    bonus += 5\n",
    "\n",
    "elif num > 100 and num < 1000:\n",
    "    bonus += (num * 0.2)\n",
    "\n",
    "elif num >= 1000:\n",
    "    bonus += (num * 0.1)\n",
    "\n",
    "if num % 2 == 0:\n",
    "    bonus += 1\n",
    "\n",
    "if num % 10 == 5:\n",
    "    bonus += 2\n",
    "\n",
    "print(bonus)\n",
    "print(bonus + num)"
   ]
  },
  {
   "cell_type": "markdown",
   "metadata": {},
   "source": [
    "<h2>07.Sum Seconds</h2>"
   ]
  },
  {
   "cell_type": "markdown",
   "metadata": {},
   "source": [
    "Three athletes finish for some seconds (between 1 and 50).\n",
    "To write a program,which **sets the times** of the contestants and calculates their cumulative time in the **\"minutes: seconds\"** format.\n",
    "Take seconds to lead zero."
   ]
  },
  {
   "cell_type": "code",
   "execution_count": 14,
   "metadata": {},
   "outputs": [
    {
     "name": "stdout",
     "output_type": "stream",
     "text": [
      "20\n",
      "60\n",
      "54\n",
      "2:14\n"
     ]
    }
   ],
   "source": [
    "first_Time = int(input())\n",
    "second_Time = int(input())\n",
    "third_Time = int(input())\n",
    "\n",
    "\n",
    "total_Time = first_Time + second_Time + third_Time\n",
    "minutes = int(total_Time / 60)\n",
    "seconds = total_Time % 60\n",
    "\n",
    "if total_Time < 60:\n",
    "    if total_Time <= 9:\n",
    "        print(f'0:0{seconds}')\n",
    "    else:\n",
    "        print(f'0:{seconds}')\n",
    "\n",
    "elif total_Time >= 60:\n",
    "    if seconds <= 9:\n",
    "        print(f'{minutes}:0{seconds}')\n",
    "    else:\n",
    "        print(f'{minutes}:{seconds}')"
   ]
  },
  {
   "cell_type": "markdown",
   "metadata": {},
   "source": [
    "<h2>08.Metric Converter</h2>\n"
   ]
  },
  {
   "cell_type": "markdown",
   "metadata": {},
   "source": [
    "Write a program that **translates a distance** between the following 8 units: **m, mm, cm, mi, in, km, ft, yd.**\n"
   ]
  },
  {
   "cell_type": "code",
   "execution_count": 16,
   "metadata": {},
   "outputs": [
    {
     "name": "stdout",
     "output_type": "stream",
     "text": [
      "10\n",
      "cm\n",
      "m\n",
      "0.1 m\n"
     ]
    }
   ],
   "source": [
    "input_num = float(input())\n",
    "\n",
    "input_unit = input()\n",
    "output_unit = input()\n",
    "\n",
    "\n",
    "\n",
    "if input_unit == \"mm\":\n",
    "    if output_unit == \"mm\":\n",
    "        print(input_num * 1,\"mm\")\n",
    "\n",
    "    elif output_unit == \"cm\":\n",
    "        print(input_num / 10,\"cm\")\n",
    "\n",
    "    elif output_unit == \"m\":\n",
    "        print(input_num / 1000,\"m\")\n",
    "\n",
    "    elif output_unit == \"mi\":\n",
    "        print((input_num / 1000) * 0.000621371192,\"mi\")\n",
    "\n",
    "    elif output_unit == \"in\":\n",
    "        print((input_num / 1000) * 39.3700787,\"in\")\n",
    "\n",
    "    elif output_unit == \"km\":\n",
    "        print((input_num / 1000) * 0.001,\"km\")\n",
    "\n",
    "    elif output_unit == \"ft\":\n",
    "        print((input_num / 1000) * 3.2808399,\"ft\")\n",
    "\n",
    "    elif output_unit == \"yd\":\n",
    "        print((input_num / 1000) * 1.0936133,\"yd\")\n",
    "\n",
    "elif input_unit == \"cm\":\n",
    "     if output_unit == \"mm\":\n",
    "        print(input_num * 10,\"mm\")\n",
    "\n",
    "     elif output_unit == \"cm\":\n",
    "         print(input_num * 1,\"cm\")\n",
    "\n",
    "     elif output_unit == \"m\":\n",
    "         print(input_num / 100,\"m\")\n",
    "\n",
    "     elif output_unit == \"mi\":\n",
    "         print((input_num / 100) * 0.000621371192,\"mi\")\n",
    "\n",
    "     elif output_unit == \"in\":\n",
    "         print((input_num / 100) * 39.3700787,\"in\")\n",
    "\n",
    "     elif output_unit == \"km\":\n",
    "         print((input_num / 100) * 0.001,\"km\")\n",
    "\n",
    "     elif output_unit == \"ft\":\n",
    "         print((input_num / 100) * 3.2808399,\"ft\")\n",
    "\n",
    "     elif output_unit == \"yd\":\n",
    "         print((input_num / 100) * 1.0936133,\"yd\")\n",
    "\n",
    "elif input_unit == \"mi\":\n",
    "     if output_unit == \"mm\":\n",
    "        print((input_num * 1609.344)* 1000,\"mm\")\n",
    "\n",
    "     elif output_unit == \"cm\":\n",
    "         print((input_num * 1609.344) * 100,\"cm\")\n",
    "\n",
    "     elif output_unit == \"m\":\n",
    "         print(input_num * 1609.344,\"m\")\n",
    "\n",
    "     elif output_unit == \"mi\":\n",
    "         print(input_num * 1,\"mi\")\n",
    "\n",
    "     elif output_unit == \"in\":\n",
    "         print((input_num * 1609.344) * 39.3700787,\"in\")\n",
    "\n",
    "     elif output_unit == \"km\":\n",
    "         print((input_num * 1609.344) * 0.001,\"km\")\n",
    "\n",
    "     elif output_unit == \"ft\":\n",
    "         print((input_num * 1609.344) * 3.2808399,\"ft\")\n",
    "\n",
    "     elif output_unit == \"yd\":\n",
    "         print((input_num * 1609.344) * 1.0936133,\"yd\")\n",
    "\n",
    "elif input_unit == \"in\":\n",
    "     if output_unit == \"mm\":\n",
    "        print((input_num * 0.0254)* 1000,\"mm\")\n",
    "\n",
    "     elif output_unit == \"cm\":\n",
    "         print((input_num * 0.0254) * 100,\"cm\")\n",
    "\n",
    "     elif output_unit == \"m\":\n",
    "         print(input_num * 0.0254,\"m\")\n",
    "\n",
    "     elif output_unit == \"mi\":\n",
    "         print((input_num * 0.0254) * 0.000621371192,\"mi\")\n",
    "\n",
    "     elif output_unit == \"in\":\n",
    "         print((input_num * 1),\"in\")\n",
    "\n",
    "     elif output_unit == \"km\":\n",
    "         print((input_num * 0.0254) * 0.001,\"km\")\n",
    "\n",
    "     elif output_unit == \"ft\":\n",
    "         print((input_num * 0.0254) * 3.2808399,\"ft\")\n",
    "\n",
    "     elif output_unit == \"yd\":\n",
    "         print((input_num * 0.0254) * 1.0936133,\"yd\")\n",
    "\n",
    "elif input_unit == \"km\":\n",
    "     if output_unit == \"mm\":\n",
    "        print((input_num * 1000)* 1000,\"mm\")\n",
    "\n",
    "     elif output_unit == \"cm\":\n",
    "         print((input_num * 1000) * 100,\"cm\")\n",
    "\n",
    "     elif output_unit == \"m\":\n",
    "         print(input_num * 1000,\"m\")\n",
    "\n",
    "     elif output_unit == \"mi\":\n",
    "         print((input_num * 1000) * 0.000621371192,\"mi\")\n",
    "\n",
    "     elif output_unit == \"in\":\n",
    "         print((input_num * 1000) * 39.3700787,\"in\")\n",
    "\n",
    "     elif output_unit == \"km\":\n",
    "         print((input_num * 1),\"km\")\n",
    "\n",
    "     elif output_unit == \"ft\":\n",
    "         print((input_num * 1000) * 3.2808399,\"ft\")\n",
    "\n",
    "     elif output_unit == \"yd\":\n",
    "         print((input_num * 1000) * 1.0936133,\"yd\")\n",
    "\n",
    "elif input_unit == \"ft\":\n",
    "     if output_unit == \"mm\":\n",
    "        print((input_num / 3.2808399)* 1000,\"mm\")\n",
    "\n",
    "     elif output_unit == \"cm\":\n",
    "         print((input_num / 3.2808399) * 100,\"cm\")\n",
    "\n",
    "     elif output_unit == \"m\":\n",
    "         print(input_num / 3.2808399,\"m\")\n",
    "\n",
    "     elif output_unit == \"mi\":\n",
    "         print((input_num / 3.2808399) * 0.000621371192,\"mi\")\n",
    "\n",
    "     elif output_unit == \"in\":\n",
    "         print((input_num / 3.2808399) * 39.3700787,\"in\")\n",
    "\n",
    "     elif output_unit == \"km\":\n",
    "         print((input_num / 3.2808399) * 0.001,\"km\")\n",
    "\n",
    "     elif output_unit == \"ft\":\n",
    "         print((input_num * 1),\"ft\")\n",
    "\n",
    "     elif output_unit == \"yd\":\n",
    "         print((input_num / 3.2808399) * 1.0936133,\"yd\")\n",
    "\n",
    "elif input_unit == \"yd\":\n",
    "     if output_unit == \"mm\":\n",
    "        print((input_num / 1.0936133)* 1000,\"mm\")\n",
    "\n",
    "     elif output_unit == \"cm\":\n",
    "         print((input_num / 1.0936133) * 100,\"cm\")\n",
    "\n",
    "     elif output_unit == \"m\":\n",
    "         print(input_num / 1.0936133,\"m\")\n",
    "\n",
    "     elif output_unit == \"mi\":\n",
    "         print((input_num / 1.0936133) * 0.000621371192,\"mi\")\n",
    "\n",
    "     elif output_unit == \"in\":\n",
    "         print((input_num / 1.0936133) * 39.3700787,\"in\")\n",
    "\n",
    "     elif output_unit == \"km\":\n",
    "         print((input_num / 1.0936133) * 0.001,\"km\")\n",
    "\n",
    "     elif output_unit == \"ft\":\n",
    "         print((input_num / 1.0936133) * 3.2808399,\"ft\")\n",
    "\n",
    "     elif output_unit == \"yd\":\n",
    "         print((input_num / 1),\"yd\")\n",
    "\n",
    "elif input_unit == \"m\":\n",
    "     if output_unit == \"mm\":\n",
    "        print(input_num * 1000,\"mm\")\n",
    "\n",
    "     elif output_unit == \"cm\":\n",
    "         print(input_num  * 100,\"cm\")\n",
    "\n",
    "     elif output_unit == \"m\":\n",
    "         print(input_num * 1,\"m\")\n",
    "\n",
    "     elif output_unit == \"mi\":\n",
    "         print(input_num  * 0.000621371192,\"mi\")\n",
    "\n",
    "     elif output_unit == \"in\":\n",
    "         print(input_num * 39.3700787,\"in\")\n",
    "\n",
    "     elif output_unit == \"km\":\n",
    "         print(input_num  * 0.001,\"km\")\n",
    "\n",
    "     elif output_unit == \"ft\":\n",
    "         print(input_num * 3.2808399,\"ft\")\n",
    "\n",
    "     elif output_unit == \"yd\":\n",
    "         print(input_num * 1.0936133,\"yd\")"
   ]
  },
  {
   "cell_type": "markdown",
   "metadata": {},
   "source": [
    "<h2>09.Password Guess</h2>"
   ]
  },
  {
   "cell_type": "markdown",
   "metadata": {},
   "source": [
    "Write a program that **enters a password** (one line with any text) and\n",
    "checks if it is entered matches the phrase **\"s3cr3t! P @ ssw0rd\"**.\n",
    "**In case of a collision**, bring **\"Welcome\"**.\n",
    "**In case of inconsistency \"Wrong Password!\"**"
   ]
  },
  {
   "cell_type": "code",
   "execution_count": 18,
   "metadata": {},
   "outputs": [
    {
     "name": "stdout",
     "output_type": "stream",
     "text": [
      "123\n",
      "Wrong password!\n"
     ]
    }
   ],
   "source": [
    "password = input()\n",
    "\n",
    "if password == \"s3cr3t!P@ssw0rd\":\n",
    "    print(\"Welcome\")\n",
    "\n",
    "else:\n",
    "    print(\"Wrong password!\")"
   ]
  },
  {
   "cell_type": "markdown",
   "metadata": {},
   "source": [
    "<h2>10.Number 100...200</h2>"
   ]
  },
  {
   "cell_type": "markdown",
   "metadata": {},
   "source": [
    "Write a program that enters an integer and checks if it is below 100, between 100 and 200 or more 200.\n",
    "Print relevant messages as in the examples below:"
   ]
  },
  {
   "cell_type": "code",
   "execution_count": 21,
   "metadata": {},
   "outputs": [
    {
     "name": "stdout",
     "output_type": "stream",
     "text": [
      "5\n",
      "Less than 100\n"
     ]
    }
   ],
   "source": [
    "num = int(input())\n",
    "\n",
    "if num < 100:\n",
    "    print(\"Less than 100\")\n",
    "\n",
    "elif num >= 100 and num <= 200:\n",
    "    print(\"Between 100 and 200\")\n",
    "\n",
    "elif num > 200:\n",
    "    print(\"Greater than 200\")"
   ]
  },
  {
   "cell_type": "markdown",
   "metadata": {},
   "source": [
    "<h2>11.Equal Words</h2>"
   ]
  },
  {
   "cell_type": "markdown",
   "metadata": {},
   "source": [
    "Write a program that introduces **two words** and checks whether they **are the same**.\n",
    "Do not make a difference between headwords and small words. Show **\"yes\" or \"no\"**."
   ]
  },
  {
   "cell_type": "code",
   "execution_count": 23,
   "metadata": {},
   "outputs": [
    {
     "name": "stdout",
     "output_type": "stream",
     "text": [
      "Yani\n",
      "Lozanov\n",
      "no\n"
     ]
    }
   ],
   "source": [
    "first_Word = input().lower()\n",
    "second_Word = input().lower()\n",
    "\n",
    "if first_Word == second_Word:\n",
    "    print(\"yes\")\n",
    "\n",
    "else:\n",
    "    print(\"no\")\n"
   ]
  },
  {
   "cell_type": "markdown",
   "metadata": {},
   "source": [
    "<h2>12.Speed Info</h2>\n"
   ]
  },
  {
   "cell_type": "markdown",
   "metadata": {},
   "source": [
    "Write a program that introduces a speed (decimal number) and prints speed information.\n",
    "At speeds of **up to 10** (inclusive), print **\"slow\"**. At speeds over **10 and up to 50**, print **\"average\"**.\n",
    "At speeds **over 50 and up to 150**, print **\"fast\"**. At speed above **150 and up to 1000**, print **\"ultra fast\"**.\n",
    "At **higher speed**, print **\"extremely fast\"**.\n"
   ]
  },
  {
   "cell_type": "code",
   "execution_count": 25,
   "metadata": {},
   "outputs": [
    {
     "name": "stdout",
     "output_type": "stream",
     "text": [
      "150\n",
      "fast\n"
     ]
    }
   ],
   "source": [
    "speed = float(input())\n",
    "\n",
    "if speed <= 10:\n",
    "    print(\"slow\")\n",
    "\n",
    "elif speed > 10 and speed <= 50:\n",
    "    print(\"average\")\n",
    "\n",
    "elif speed > 50 and speed <= 150:\n",
    "    print(\"fast\")\n",
    "\n",
    "elif speed > 150 and speed <= 1000:\n",
    "    print(\"ultra fast\")\n",
    "\n",
    "else:\n",
    "    print(\"extremely fast\")\n"
   ]
  },
  {
   "cell_type": "markdown",
   "metadata": {},
   "source": [
    "<h2>13.Area of Figures</h2>"
   ]
  },
  {
   "cell_type": "markdown",
   "metadata": {},
   "source": [
    "Write a program that introduces the dimensions of a geometric figure and calculates its face.\n",
    "The figures are four types: **a square, a rectangle, a circle, and a triangle**.\n",
    "On the first line of the input reads the shape of the figure (square, rectangle, circle or triangle).\n",
    "\n",
    "If the figure is a **square**, the next line reads **one number**- the length of its country.\n",
    "\n",
    "If the figure is a **rectangle**, the next one two lines read **two numbers**- the lengths of his sides.\n",
    "\n",
    "If the figure is a **circle**, the next line reads **one number**\n",
    "the radius of the circle.\n",
    "\n",
    "If the figure is a **triangle**, the next two lines read **two numbers** - the length of the\n",
    "its side and the length of the height to it. Score to round to 3 digits after the decimal  point."
   ]
  },
  {
   "cell_type": "code",
   "execution_count": 27,
   "metadata": {},
   "outputs": [
    {
     "name": "stdout",
     "output_type": "stream",
     "text": [
      "triangle\n",
      "2\n",
      "3\n",
      "3.000\n"
     ]
    }
   ],
   "source": [
    "import math\n",
    "\n",
    "figure = input()\n",
    "\n",
    "\n",
    "if figure == \"square\":\n",
    "    side = float(input())\n",
    "\n",
    "    area = side ** 2\n",
    "\n",
    "    print(format(area,'.3f'))\n",
    "\n",
    "elif figure == \"rectangle\":\n",
    "    side_a = float(input())\n",
    "    side_b = float(input())\n",
    "\n",
    "    area = side_a * side_b\n",
    "\n",
    "    print(format(area,'.3f'))\n",
    "\n",
    "elif figure == \"circle\":\n",
    "     radius = float(input())\n",
    "\n",
    "     area = radius ** 2 * math.pi\n",
    "\n",
    "     print(format(area,'.3f'))\n",
    "\n",
    "\n",
    "elif figure == \"triangle\":\n",
    "    side = float(input())\n",
    "    height = float(input())\n",
    "\n",
    "    area = (side * height) / 2\n",
    "\n",
    "    print(format(area,'.3f'))"
   ]
  },
  {
   "cell_type": "markdown",
   "metadata": {},
   "source": [
    "<h2>14.Time + 15 Minutes</h2>"
   ]
  },
  {
   "cell_type": "markdown",
   "metadata": {},
   "source": [
    "Write a program that introduces **hours and minutes of 24 hours a day**and calculates how much time it will take **after 15 minutes**. The result is printed in hh: mm format.\n",
    "Hours are always between 0 and 23 minutes are always between 0 and 59.\n",
    "Hours are written in one or two digits. Minutes are always written with two digits, with lead zero when needed."
   ]
  },
  {
   "cell_type": "code",
   "execution_count": 32,
   "metadata": {},
   "outputs": [
    {
     "name": "stdout",
     "output_type": "stream",
     "text": [
      "23\n",
      "55\n",
      "0:10\n"
     ]
    }
   ],
   "source": [
    "\n",
    "hours = int(input())\n",
    "minutes = int(input())\n",
    "\n",
    "minutes += 15\n",
    "\n",
    "if minutes >= 60:\n",
    "    minutes %= 60\n",
    "    hours += 1\n",
    "\n",
    "    if hours >= 24:\n",
    "     hours -= 24\n",
    "     if minutes <= 9:\n",
    "        print(f'{hours}:0{minutes}')\n",
    "\n",
    "     else:\n",
    "        print(f'{hours}:{minutes}')\n",
    "\n",
    "    else:\n",
    "        if minutes <= 9:\n",
    "            print(f'{hours}:0{minutes}')\n",
    "\n",
    "        else:\n",
    "          print(f'{hours}:{minutes}')\n",
    "\n",
    "else:\n",
    "    print(f'{hours}:{minutes}')"
   ]
  },
  {
   "cell_type": "markdown",
   "metadata": {},
   "source": [
    "<h2>15.3 Equal Numbers</h2>"
   ]
  },
  {
   "cell_type": "markdown",
   "metadata": {},
   "source": [
    "Enter 3 numbers and print whether they are the same (yes / no)"
   ]
  },
  {
   "cell_type": "code",
   "execution_count": 34,
   "metadata": {},
   "outputs": [
    {
     "name": "stdout",
     "output_type": "stream",
     "text": [
      "5\n",
      "6\n",
      "5\n",
      "no\n"
     ]
    }
   ],
   "source": [
    "first_num = int(input())\n",
    "second_num = int(input())\n",
    "third_num = int(input())\n",
    "\n",
    "sum = first_num + second_num + third_num\n",
    "\n",
    "if sum / 3 == first_num:\n",
    "    print(\"yes\")\n",
    "\n",
    "else:\n",
    "    print(\"no\")"
   ]
  }
 ],
 "metadata": {
  "kernelspec": {
   "display_name": "Python 3",
   "language": "python",
   "name": "python3"
  },
  "language_info": {
   "codemirror_mode": {
    "name": "ipython",
    "version": 3
   },
   "file_extension": ".py",
   "mimetype": "text/x-python",
   "name": "python",
   "nbconvert_exporter": "python",
   "pygments_lexer": "ipython3",
   "version": "3.6.4"
  }
 },
 "nbformat": 4,
 "nbformat_minor": 2
}
