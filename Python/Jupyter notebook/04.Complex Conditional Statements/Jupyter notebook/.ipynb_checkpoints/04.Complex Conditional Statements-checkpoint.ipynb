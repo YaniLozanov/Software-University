{
 "cells": [
  {
   "cell_type": "code",
   "execution_count": 1,
   "metadata": {},
   "outputs": [],
   "source": [
    "%matplotlib inline\n"
   ]
  },
  {
   "cell_type": "markdown",
   "metadata": {},
   "source": [
    "<h1 align=\"center\">Complex Conditional Statements<h1>\n"
   ]
  },
  {
   "cell_type": "markdown",
   "metadata": {},
   "source": [
    "<h2>01.Personal Titles</h2>"
   ]
  },
  {
   "cell_type": "markdown",
   "metadata": {},
   "source": [
    "The first task of this topic is to write a console program that **introduces age** (decimal number) and **gender** (\"m\" or \"f\") and **prints an address** from among the following:\n",
    "-> \"Mr.\" - male (gender \"m\") aged 16 or over\n",
    "-> \"Master\" - boy (sex \"m\") under 16 years of age\n",
    "-> \"Ms.\" - woman (gender \"f\") aged 16 or over\n",
    "-> \"Miss\" - girl (gender \"f\") under 16 years of age"
   ]
  },
  {
   "cell_type": "code",
   "execution_count": 4,
   "metadata": {},
   "outputs": [
    {
     "name": "stdout",
     "output_type": "stream",
     "text": [
      "4\n",
      "m\n",
      "Master\n"
     ]
    }
   ],
   "source": [
    "age = float(input())\n",
    "sex = input()\n",
    "\n",
    "if sex == \"m\":\n",
    "    if age >= 16:\n",
    "        print(\"Mr.\")\n",
    "    else:\n",
    "        print(\"Master\")\n",
    "\n",
    "else:\n",
    "    if age >= 16:\n",
    "        print(\"Ms.\")\n",
    "    else:\n",
    "        print(\"Miss\")\n"
   ]
  },
  {
   "cell_type": "markdown",
   "metadata": {},
   "source": [
    "<h2>02.Small Shop</h2>"
   ]
  },
  {
   "cell_type": "markdown",
   "metadata": {},
   "source": [
    "Problem:\n",
    "The next task is to work with nested if.\n",
    "Here is the condition: enterprising Bulgarian opens neighborhood shops in several cities and    sells at different prices:\n",
    "\n",
    "     \n",
    "               \n",
    "                \n",
    "                 \n",
    "\n",
    "\n",
    "|  city / product | coffee  |water| beer  |  sweet |  peanuts |\n",
    "|---|---|---|---|---|---|\n",
    "|  Sofia |  0.50  |  0.80 | 1.20  | 1.45   |  1.60  |\n",
    "|  Plovdiv |  0.40 | 0.70  | 1.15  | 1.30  | 1.50  |\n",
    "|  Varna | 0.45  |   0.70 |  1.10 | 1.35  | 1.55  |\n",
    "\n",
    "Write a program that **reads from the console city** (string),**product** (string) and **quantity** (decimal number), and **calculates and prints** how much the corresponding quantity of the selected**product costs** in that city.\n",
    "The answer to be accurate to the second character."
   ]
  },
  {
   "cell_type": "code",
   "execution_count": 8,
   "metadata": {},
   "outputs": [
    {
     "name": "stdout",
     "output_type": "stream",
     "text": [
      "peanuts\n",
      "Plovdiv\n",
      "1\n",
      "1.5\n"
     ]
    }
   ],
   "source": [
    "product = input()\n",
    "city = input()\n",
    "quantity = float(input())\n",
    "\n",
    "price = 0\n",
    "\n",
    "if city == \"Sofia\":\n",
    "    if product == \"coffee\":\n",
    "       price = quantity * 0.50\n",
    "\n",
    "    elif product == \"water\":\n",
    "        price = quantity * 0.80\n",
    "\n",
    "    elif product == \"beer\":\n",
    "        price = quantity * 1.20\n",
    "\n",
    "    elif product == \"sweets\":\n",
    "        price = quantity * 1.45\n",
    "\n",
    "    elif product == \"peanuts\":\n",
    "        price = quantity * 1.60\n",
    "\n",
    "elif city == \"Plovdiv\":\n",
    "    if product == \"coffee\":\n",
    "       price = quantity * 0.40\n",
    "\n",
    "    elif product == \"water\":\n",
    "        price = quantity * 0.70\n",
    "\n",
    "    elif product == \"beer\":\n",
    "        price = quantity * 1.15\n",
    "\n",
    "    elif product == \"sweets\":\n",
    "        price = quantity * 1.30\n",
    "\n",
    "    elif product == \"peanuts\":\n",
    "        price = quantity * 1.50\n",
    "\n",
    "elif city == \"Varna\":\n",
    "    if product == \"coffee\":\n",
    "       price = quantity * 0.45\n",
    "\n",
    "    elif product == \"water\":\n",
    "        price = quantity * 0.70\n",
    "\n",
    "    elif product == \"beer\":\n",
    "        price = quantity * 1.10\n",
    "\n",
    "    elif product == \"sweets\":\n",
    "        price = quantity * 1.35\n",
    "\n",
    "    elif product == \"peanuts\":\n",
    "        price = quantity * 1.55\n",
    "\n",
    "\n",
    "\n",
    "print(float(\"{0:.2f}\".format(price)))"
   ]
  },
  {
   "cell_type": "markdown",
   "metadata": {},
   "source": [
    "<h2>03.Point in Rectangle</h2>"
   ]
  },
  {
   "cell_type": "markdown",
   "metadata": {},
   "source": [
    "Problem:\n",
    "Write a program that **checks** whether the point **{x, y}** is located in a rectangle **{x1, y1} - {x2, y2}**.\n",
    "The **input** data is read from the console and consists of **6 rows**: the decimal numbers **x1, y1, x2, y2, x and y** (taking ensure that x1 <x2 and y1 <y2). One point is internal to a rectangle if it is located somewhere in\n",
    "its interior or on one of its sides. \n",
    "Print \"**Inside**\" or \"**Outside**\"."
   ]
  },
  {
   "cell_type": "code",
   "execution_count": 11,
   "metadata": {},
   "outputs": [
    {
     "name": "stdout",
     "output_type": "stream",
     "text": [
      "2\n",
      "-3\n",
      "12\n",
      "2\n",
      "5\n",
      "6\n",
      "Outside\n"
     ]
    }
   ],
   "source": [
    "x1 = float(input())\n",
    "y1 = float(input())\n",
    "\n",
    "x2 = float(input())\n",
    "y2 = float(input())\n",
    "\n",
    "x = float(input())\n",
    "y = float(input())\n",
    "\n",
    "\n",
    "if x >= x1 and x <= x2 and y >= y1 and y <= y2:\n",
    "    print(\"Inside\")\n",
    "\n",
    "else:\n",
    "    print(\"Outside\")"
   ]
  },
  {
   "cell_type": "markdown",
   "metadata": {},
   "source": [
    "<h2>04.Fruit or Vegetable</h2>"
   ]
  },
  {
   "cell_type": "markdown",
   "metadata": {},
   "source": [
    "Problem:\n",
    "Write a program that introduces a **product name** and **checks whether it** is a **fruit** or a **vegetable**.\n",
    "\n",
    "**->** Fruit are: banana, apple, kiwi, cherry, lemon and grapes\n",
    "\n",
    "**->** Vegetables  are: tomato, cucumber, pepper and carrot\n",
    "\n",
    "**->**  All others are unknown ;\n",
    "\n",
    "Display \"**fruit**\", \"**vegetable**\" or \"**unknown**\" according to the introduced product."
   ]
  },
  {
   "cell_type": "code",
   "execution_count": 13,
   "metadata": {},
   "outputs": [
    {
     "name": "stdout",
     "output_type": "stream",
     "text": [
      "apple\n",
      "fruit\n"
     ]
    }
   ],
   "source": [
    "product = input()\n",
    "\n",
    "\n",
    "if product == \"banana\":\n",
    "    print(\"fruit\")\n",
    "\n",
    "elif product == \"apple\":\n",
    "    print(\"fruit\")\n",
    "\n",
    "elif product == \"kiwi\":\n",
    "    print(\"fruit\")\n",
    "\n",
    "elif product == \"cherry\":\n",
    "    print(\"fruit\")\n",
    "\n",
    "elif product == \"lemon\":\n",
    "    print(\"fruit\")\n",
    "\n",
    "elif product == \"grapes\":\n",
    "    print(\"fruit\")\n",
    "\n",
    "elif product == \"tomato\":\n",
    "    print(\"vegetable\")\n",
    "\n",
    "elif product == \"cucumber\":\n",
    "    print(\"vegetable\")\n",
    "\n",
    "elif product == \"pepper\":\n",
    "    print(\"vegetable\")\n",
    "\n",
    "elif product == \"carrot\":\n",
    "    print(\"vegetable\")\n",
    "\n",
    "else:\n",
    "    print(\"unknown\")\n",
    "\n"
   ]
  },
  {
   "cell_type": "markdown",
   "metadata": {},
   "source": [
    "<h2>05.Invalid Number</h2>"
   ]
  },
  {
   "cell_type": "markdown",
   "metadata": {},
   "source": [
    "Problem:\n",
    "A given **number is valid** if it is in the range **[100 ... 200]** or is **0**.\n",
    "Write a program that enters a whole number and print \"**invalid**\" if the entered number is **not valid**."
   ]
  },
  {
   "cell_type": "code",
   "execution_count": 15,
   "metadata": {},
   "outputs": [
    {
     "name": "stdout",
     "output_type": "stream",
     "text": [
      "5\n",
      "invalid\n"
     ]
    }
   ],
   "source": [
    "num = float(input())\n",
    "\n",
    "if num == 0 or (num >= 100 and num <= 200):\n",
    "    print()\n",
    "    \n",
    "else:\n",
    "    print(\"invalid\")\n"
   ]
  },
  {
   "cell_type": "markdown",
   "metadata": {},
   "source": [
    "<h2>06.Point on Rectangle Border</h2>"
   ]
  },
  {
   "cell_type": "markdown",
   "metadata": {},
   "source": [
    "Problem:\n",
    "Write a program that checks whether the point **{x, y}** is located on either side of a rectangle **{x1, y1} - {x2, y2}**.\n",
    "The input data is read from the console and consists of 6 rows: the decimal numbers x**1, y1, x2, y2, x and y** (ensuring that x1 <x2 and y1 <y2).\n",
    "Print \"**Border**\" (the point lies on one side)or \"**Inside / Outside**\" (otherwise)."
   ]
  },
  {
   "cell_type": "code",
   "execution_count": 20,
   "metadata": {},
   "outputs": [
    {
     "name": "stdout",
     "output_type": "stream",
     "text": [
      "5\n",
      "8\n",
      "4\n",
      "6\n",
      "-9\n",
      "5\n",
      "Inside / Outside\n"
     ]
    }
   ],
   "source": [
    "x1 = float(input())\n",
    "y1 = float(input())\n",
    "\n",
    "x2 = float(input())\n",
    "y2 = float(input())\n",
    "\n",
    "x = float(input())\n",
    "y = float(input())\n",
    "\n",
    "if ((( y == y1 or y == y2)and (x1 <= x and x <= x2))) or ((x == x1 or x == x2)and (y1 <= y and y <= y2)):\n",
    "    print(\"Border\")\n",
    "\n",
    "else:\n",
    "    print(\"Inside / Outside\")\n"
   ]
  },
  {
   "cell_type": "markdown",
   "metadata": {},
   "source": [
    "<h2>07.Fruit Shop</h2>"
   ]
  },
  {
   "cell_type": "markdown",
   "metadata": {},
   "source": [
    "Problem:\n",
    "The fruit shop during the working days works at the following **prices**:\n",
    "\n",
    "| fruit |  banana |  apple |  orange |  grapefruit | kiwi  | pineapple  | grapes  |\n",
    "|---|---|---|---|---|---|---|---|\n",
    "| price  | 2.50  | 1.20  | 0.85  |  1.45 | 2.70  | 5.50   | 3.85  |\n",
    "\n",
    "\n",
    "Saturday and Sunday the shop runs at higher prices:\n",
    "\n",
    "\n",
    "| fruit |  banana |  apple |  orange |  grapefruit | kiwi  | pineapple  | grapes  |\n",
    "|---|---|---|---|---|---|---|---|\n",
    "|  price |   2.70   |  1.25  |   0.90 | 1.60  | 3.00   |   5.60 |  4.20  |\n",
    "\n",
    "\n",
    "Write a program that reads from the **fruit** console (banana / apple / orange / grapefruit / kiwi / pineapple /grapes), **day of the week** (Monday / Tuesday / Wednesday / Wednesday / Friday / Saturday / Sunday) and quantity(decimal number) and calculate the price according to the prices in the tables above.\n",
    "Print the result **rounded by 2 digits** after the decimal point.\n",
    "Invalid day of the week or invalid fruit name to print \"**error**\"."
   ]
  },
  {
   "cell_type": "code",
   "execution_count": 17,
   "metadata": {},
   "outputs": [
    {
     "name": "stdout",
     "output_type": "stream",
     "text": [
      "apple\n",
      "Tuesday\n",
      "2\n",
      "2.4\n"
     ]
    }
   ],
   "source": [
    "fruit = input()\n",
    "day = input()\n",
    "quantity = float(input())\n",
    "\n",
    "price = 0\n",
    "\n",
    "valid_Day = day == \"Monday\" or day == \"Tuesday\" or\\\n",
    "            day == \"Wednesday\" or day == \"Thursday\" or\\\n",
    "            day == \"Friday\"\n",
    "\n",
    "\n",
    "if day == \"Saturday\" or day == \"Sunday\":\n",
    "        if fruit == \"banana\":\n",
    "            price = quantity * 2.70\n",
    "            print(price)\n",
    "\n",
    "        elif fruit == \"apple\":\n",
    "            price = quantity * 1.25\n",
    "            print(price)\n",
    "\n",
    "        elif fruit == \"orange\":\n",
    "            price = quantity * 0.90\n",
    "            print(price)\n",
    "\n",
    "        elif fruit == \"grapefruit\":\n",
    "            price = quantity * 1.60\n",
    "            print(price)\n",
    "\n",
    "        elif fruit == \"kiwi\":\n",
    "            price = quantity * 3.00\n",
    "            print(price)\n",
    "\n",
    "        elif fruit == \"pineapple\":\n",
    "            price = quantity * 5.60\n",
    "            print(price)\n",
    "\n",
    "        elif fruit == \"grapes\":\n",
    "            price = quantity * 4.20\n",
    "            print(price)\n",
    "            \n",
    "        else:\n",
    "            print(\"error\")\n",
    "\n",
    "elif valid_Day:\n",
    "    if fruit == \"banana\":\n",
    "            price = quantity * 2.50\n",
    "            print(price)\n",
    "\n",
    "    elif fruit == \"apple\":\n",
    "            price = quantity * 1.20\n",
    "            print(price)\n",
    "\n",
    "    elif fruit == \"orange\":\n",
    "            price = quantity * 0.85\n",
    "            print(price)\n",
    "\n",
    "    elif fruit == \"grapefruit\":\n",
    "            price = quantity * 1.45\n",
    "            print(price)\n",
    "\n",
    "    elif fruit == \"kiwi\":\n",
    "            price = quantity * 2.70\n",
    "            print(price)\n",
    "\n",
    "    elif fruit == \"pineapple\":\n",
    "            price = quantity * 5.50\n",
    "            print(price)\n",
    "\n",
    "    elif fruit == \"grapes\":\n",
    "            price = quantity * 3.85\n",
    "            print(price)\n",
    "\n",
    "    else:\n",
    "        print(\"error\")\n",
    "\n",
    "else:\n",
    "    print(\"error\")\n",
    "\n",
    "\n",
    "    "
   ]
  },
  {
   "cell_type": "markdown",
   "metadata": {},
   "source": [
    "<h2>08.Trade Comissions</h2>"
   ]
  },
  {
   "cell_type": "markdown",
   "metadata": {},
   "source": [
    "Problem:\n",
    "The company gives the following **commissions** to its merchants according to the town in which the **sales volume** works:\n",
    "\n",
    "| City  |  0 ≤ s ≤ 500 |  500 < s ≤ 1,000 |   1,000 < s ≤ 10,000 | s > 10 000  |\n",
    "|---|---|---|---|---|\n",
    "| Sofia  | 5%  |  7% |  8%  | 12%  |\n",
    "|  Varna |  4.5%   |  7.5%  |  10% | 13%  |\n",
    "| Plovdiv  | 5.5%  | 8%  |  12% |  14.5% |\n",
    "\n",
    "Write a console program that reads a **city name and sales volume** (decimal number) and **calculates and returns** the amount of merchant commission according to the above table.\n",
    "Score to be **rounded by 2 digits** after the decimal point.\n",
    "In the case of an **invalid city or sales volume** (negative number) prints \"**error**\"."
   ]
  },
  {
   "cell_type": "code",
   "execution_count": 21,
   "metadata": {},
   "outputs": [
    {
     "name": "stdout",
     "output_type": "stream",
     "text": [
      "Sofia\n",
      "1500\n",
      "120.0\n"
     ]
    }
   ],
   "source": [
    "city = input()\n",
    "sales = float(input())\n",
    "\n",
    "commission = 0\n",
    "commission_Percent = 0\n",
    "\n",
    "if city == \"Sofia\":\n",
    "    if 0 <= sales <= 500:\n",
    "        commission_Percent = 0.05\n",
    "\n",
    "    elif 500 <= sales <= 1000:\n",
    "        commission_Percent = 0.07\n",
    "\n",
    "    elif 1000 <= sales <= 10000:\n",
    "        commission_Percent =  0.08\n",
    "\n",
    "    elif sales > 10000:\n",
    "        commission_Percent = 0.12\n",
    "\n",
    "elif city == \"Varna\":\n",
    "    if 0 <= sales <= 500:\n",
    "        commission_Percent = 0.045\n",
    "\n",
    "    elif 500 <= sales <= 1000:\n",
    "        commission_Percent = 0.075\n",
    "\n",
    "    elif 1000 <= sales <= 10000:\n",
    "        commission_Percent =  0.10\n",
    "\n",
    "    elif sales > 10000:\n",
    "        commission_Percent = 0.13\n",
    "\n",
    "    else:\n",
    "        print(\"error\")\n",
    "\n",
    "elif city == \"Plovdiv\":\n",
    "    if 0 <= sales <= 500:\n",
    "        commission_Percent = 0.055\n",
    "\n",
    "    elif 500 <= sales <= 1000:\n",
    "        commission_Percent = 0.08\n",
    "\n",
    "    elif 1000 <= sales <= 10000:\n",
    "        commission_Percent =  0.12\n",
    "\n",
    "    elif sales > 10000:\n",
    "        commission_Percent = 0.145\n",
    "\n",
    "    else:\n",
    "        print(\"error\")\n",
    "else:\n",
    "    print(\"error\")\n",
    "\n",
    "commission = sales * commission_Percent\n",
    "\n",
    "print(float(\"{0:.2f}\".format(commission)))"
   ]
  },
  {
   "cell_type": "markdown",
   "metadata": {},
   "source": [
    "<h2>09.Day of Week</h2>"
   ]
  },
  {
   "cell_type": "markdown",
   "metadata": {},
   "source": [
    "Problem:\n",
    "Print the **name of the day** of the week by day of the day from [1 ... 7] or\n",
    "print an \"**Error**\" for an invalid number."
   ]
  },
  {
   "cell_type": "code",
   "execution_count": 23,
   "metadata": {},
   "outputs": [
    {
     "name": "stdout",
     "output_type": "stream",
     "text": [
      "4\n",
      "Thursday\n"
     ]
    }
   ],
   "source": [
    "num = float(input())\n",
    "\n",
    "if num == 1:\n",
    "    print(\"Monday\")\n",
    "\n",
    "elif num == 2:\n",
    "    print(\"Tuesday\")\n",
    "\n",
    "elif num == 3:\n",
    "    print(\"Wednesday\")\n",
    "\n",
    "elif num == 4:\n",
    "    print(\"Thursday\")\n",
    "\n",
    "elif num == 5:\n",
    "    print(\"Friday\")\n",
    "\n",
    "elif num == 6:\n",
    "    print(\"Saturday\")\n",
    "\n",
    "elif num == 7:\n",
    "    print(\"Sunday\")\n",
    "\n",
    "else:\n",
    "    print(\"error\")"
   ]
  },
  {
   "cell_type": "markdown",
   "metadata": {},
   "source": [
    "<h2>10.Animal Type</h2>"
   ]
  },
  {
   "cell_type": "markdown",
   "metadata": {},
   "source": [
    "Problem:\n",
    "Write a program that prints the **animal's class** according to its user name:\n",
    "\n",
    "\n",
    "-> dog  -> mammal\n",
    "\n",
    "-> crocodile, tortoise, snake -> reptiles\n",
    "\n",
    "-> others -> unknown"
   ]
  },
  {
   "cell_type": "code",
   "execution_count": 25,
   "metadata": {},
   "outputs": [
    {
     "name": "stdout",
     "output_type": "stream",
     "text": [
      "dog\n",
      "mammal\n"
     ]
    }
   ],
   "source": [
    "animal = input()\n",
    "\n",
    "if animal == \"dog\":\n",
    "    print(\"mammal\")\n",
    "\n",
    "elif animal == \"crocodile\" or animal == \"snake\" or animal == \"tortoise\":\n",
    "      print(\"reptile\")\n",
    "\n",
    "else:\n",
    "    print(\"unknown\")"
   ]
  },
  {
   "cell_type": "markdown",
   "metadata": {},
   "source": [
    "<h2>11.Cinema</h2>"
   ]
  },
  {
   "cell_type": "markdown",
   "metadata": {},
   "source": [
    " Problem:\n",
    "In one **cinema hall**, the chairs are arranged in rectangular shape in r row and c columns.\n",
    "There are three types of projections with **Tickets** at different rates:\n",
    "\n",
    "\n",
    "-> **Premiere** - Premiere, at a price of 12.00 BGN.\n",
    "-> **Normal** - standard screening, at a price of 7.50 leva.\n",
    "\n",
    "\n",
    "-> Discount - screening for children, students and students at a reduced price of 5.00 BGN.\n",
    "Write a program that introduces a screen type, number of rows, and number of columns in the room numbers) and calculates total ticket revenue in a full room.\n",
    "Print the result in a format such as the examples below, with 2 decimal places."
   ]
  },
  {
   "cell_type": "code",
   "execution_count": 27,
   "metadata": {},
   "outputs": [
    {
     "name": "stdout",
     "output_type": "stream",
     "text": [
      "Normal\n",
      "21\n",
      "12\n",
      "1890.00 leva\n"
     ]
    }
   ],
   "source": [
    "projections_Type = input()\n",
    "row = int(input())\n",
    "cow = int(input())\n",
    "\n",
    "tickets_Price = 0\n",
    "total_Price = 0\n",
    "\n",
    "if projections_Type == \"Premiere\":\n",
    "    tickets_Price = 12\n",
    "\n",
    "\n",
    "elif projections_Type == \"Normal\":\n",
    "    tickets_Price = 7.5\n",
    "\n",
    "\n",
    "elif projections_Type == \"Discount\":\n",
    "    tickets_Price = 5\n",
    "\n",
    "total_Price = tickets_Price * (row * cow)\n",
    "\n",
    "print(\"{0:.2f} leva\".format(total_Price))"
   ]
  },
  {
   "cell_type": "markdown",
   "metadata": {},
   "source": [
    "<h2>12.Volleyball</h2>"
   ]
  },
  {
   "cell_type": "markdown",
   "metadata": {},
   "source": [
    "Problem:\n",
    "Vladi is a student, lives in **Sofia and walks** from time to time to his hometown.\n",
    "He is very keen on volleyball but busy during business days and playing volleyball only on weekends and holidays.\n",
    "Vladi plays in Sofia **every Saturday** when he is not at work and does not travel to his hometown, as well as in **2/3** of festive days.\n",
    "He travels to his hometown h times in the year where he plays volleyball with his old ones friends on Sunday.\n",
    "Vladi is not at work 3/4 of the weekends he's in Sofia.\n",
    "Separately, through the leeches years Vladi plays with 15% more volleyball than normal.\n",
    "We assume that the year has exactly 48 weekends,suitable for volleyball.\n",
    "\n",
    "How many times , he played during the year"
   ]
  },
  {
   "cell_type": "code",
   "execution_count": 29,
   "metadata": {},
   "outputs": [
    {
     "name": "stdout",
     "output_type": "stream",
     "text": [
      "leap\n",
      "5\n",
      "12\n",
      "48\n"
     ]
    }
   ],
   "source": [
    "import  math\n",
    "\n",
    "years_Type = input()\n",
    "holidays = int(input())\n",
    "weekends = int(input())\n",
    "\n",
    "times = 0\n",
    "weekends_games = 0\n",
    "games_in_Sofia = 0\n",
    "\n",
    "if years_Type == \"normal\":\n",
    "    weekends_games = (48 - weekends) * ( 3 / 4)\n",
    "    games_in_Sofia = holidays * (2/3)\n",
    "    times = weekends_games + games_in_Sofia + weekends\n",
    "    print(math.floor(times))\n",
    "\n",
    "\n",
    "\n",
    "elif years_Type == \"leap\":\n",
    "     weekends_games = (48 - weekends) * ( 3 / 4)\n",
    "     games_in_Sofia = holidays * (2/3)\n",
    "     times = weekends_games + games_in_Sofia + weekends\n",
    "     times += 0.15 * times\n",
    "     print(math.floor(times))\n"
   ]
  },
  {
   "cell_type": "markdown",
   "metadata": {},
   "source": [
    "<h2>13.Point in the Figure</h2>"
   ]
  },
  {
   "cell_type": "markdown",
   "metadata": {},
   "source": [
    " Problem:\n",
    "Figure consists of 6 blocks of size **h * h**, located as in the figure on the right.\n",
    "Lower left corner of the building is in position **{0, 0}**.\n",
    "The upper right corner of the figure is in position **{2 * h, 4 * h}**.\n",
    "In the figure the coordinates are given at **h = 2**.\n",
    "Write a program that enters integer h and coordinates\n",
    "a point {x, y} (integers) and prints whether the point is inside\n",
    "the inside, outside the figure, or on any of the sides of the border."
   ]
  },
  {
   "cell_type": "code",
   "execution_count": 30,
   "metadata": {},
   "outputs": [
    {
     "name": "stdout",
     "output_type": "stream",
     "text": [
      "2\n",
      "2\n",
      "2\n",
      "border\n"
     ]
    }
   ],
   "source": [
    "h = int(input())\n",
    "x = int(input())\n",
    "y = int(input())\n",
    "\n",
    "left_square = (0 < x <= h) and (0 < y < h)               # Is the point in the left square.\n",
    "mid = (h < x < 2 * h) and (0 < y < 4 * h)               # Is the point in the middle cow.\n",
    "right_square = (2 * h <= x < 3 * h) and (0 < y < h)      # Is the point in the right square.\n",
    "\n",
    "\n",
    "left_squares_borders = (x == 0 and 0 <= y <= h)or\\\n",
    "                       (y == h and 0 <= x <= h)         # Is the point on the left squares border.\n",
    "\n",
    "down_border = (y == 0 and 0 <= x <= h * 3)\n",
    "\n",
    "right_squares_borders = (x == h * 3 and 0 <= y <= h)or\\\n",
    "                        (y == h and 2 * h <= x <= 3 * h)  # Is the point on the right squares border.\n",
    "\n",
    "mid_borders = (x == 2 * h and h <= y <= 4 * h)or\\\n",
    "              (x == h and h <= y <= 4 * h)\n",
    "\n",
    "top_border = (y == 4 * h and h <= x <= 2 * h)\n",
    "\n",
    "\n",
    "inside = left_square or mid or right_square\n",
    "border = left_squares_borders or right_squares_borders or\\\n",
    "         down_border or mid_borders or top_border\n",
    "\n",
    "\n",
    "\n",
    "\n",
    "if inside:\n",
    "    print(\"inside\")\n",
    "\n",
    "elif border:\n",
    "    print(\"border\")\n",
    "\n",
    "else:\n",
    "    print(\"Outside\")\n",
    "\n"
   ]
  }
 ],
 "metadata": {
  "kernelspec": {
   "display_name": "Python 3",
   "language": "python",
   "name": "python3"
  },
  "language_info": {
   "codemirror_mode": {
    "name": "ipython",
    "version": 3
   },
   "file_extension": ".py",
   "mimetype": "text/x-python",
   "name": "python",
   "nbconvert_exporter": "python",
   "pygments_lexer": "ipython3",
   "version": "3.6.4"
  }
 },
 "nbformat": 4,
 "nbformat_minor": 2
}
