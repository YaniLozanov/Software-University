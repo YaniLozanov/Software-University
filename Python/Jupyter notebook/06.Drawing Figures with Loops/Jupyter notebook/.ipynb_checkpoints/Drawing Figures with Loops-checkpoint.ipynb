{
 "cells": [
  {
   "cell_type": "code",
   "execution_count": 1,
   "metadata": {},
   "outputs": [],
   "source": [
    "%matplotlib inline"
   ]
  },
  {
   "cell_type": "markdown",
   "metadata": {},
   "source": [
    "<h1 align=\"center\">Drawing Figures with Loops</h1>"
   ]
  },
  {
   "cell_type": "markdown",
   "metadata": {},
   "source": [
    "<h2>01.Rectangle of 10 x 10 Stars</h2>"
   ]
  },
  {
   "cell_type": "markdown",
   "metadata": {},
   "source": [
    "Problem:\n",
    "Write a program that draws a rectangle of 10 x 10 asterisks on the console."
   ]
  },
  {
   "cell_type": "code",
   "execution_count": 3,
   "metadata": {},
   "outputs": [
    {
     "name": "stdout",
     "output_type": "stream",
     "text": [
      "**********\n",
      "**********\n",
      "**********\n",
      "**********\n",
      "**********\n",
      "**********\n",
      "**********\n",
      "**********\n",
      "**********\n",
      "**********\n"
     ]
    }
   ],
   "source": [
    "asterisk = 10\n",
    "for i in range(0,10):\n",
    "    print(\"*\" * asterisk)"
   ]
  },
  {
   "cell_type": "markdown",
   "metadata": {},
   "source": [
    "<h2>02.Rectangle of N x N Stars</h2>"
   ]
  },
  {
   "cell_type": "markdown",
   "metadata": {},
   "source": [
    "Problem:\n",
    "Write a program that introduces a positive integer n and the console rectangle of n * n asterisks."
   ]
  },
  {
   "cell_type": "code",
   "execution_count": 5,
   "metadata": {},
   "outputs": [
    {
     "name": "stdout",
     "output_type": "stream",
     "text": [
      "5\n",
      "*****\n",
      "*****\n",
      "*****\n",
      "*****\n",
      "*****\n"
     ]
    }
   ],
   "source": [
    "n = int(input())\n",
    "\n",
    "for i in range(0, n):\n",
    "    print(\"*\" * n)\n"
   ]
  },
  {
   "cell_type": "markdown",
   "metadata": {},
   "source": [
    "<h2>03.Square of Stars</h2>"
   ]
  },
  {
   "cell_type": "markdown",
   "metadata": {},
   "source": [
    "Problem:\n",
    "Write a program that reads the console number n and draws a square of n * n asterisks.\n",
    "The Difference with the previous task is that there is a space between every two asterisks."
   ]
  },
  {
   "cell_type": "code",
   "execution_count": 7,
   "metadata": {},
   "outputs": [
    {
     "name": "stdout",
     "output_type": "stream",
     "text": [
      "5\n",
      "* * * * * \n",
      "* * * * * \n",
      "* * * * * \n",
      "* * * * * \n",
      "* * * * * \n"
     ]
    }
   ],
   "source": [
    "n = int(input())\n",
    "\n",
    "for i in range(0, n):\n",
    "    print(\"* \" * n)\n"
   ]
  },
  {
   "cell_type": "markdown",
   "metadata": {},
   "source": [
    "<h2>04.Triangle of Dollars</h2>"
   ]
  },
  {
   "cell_type": "markdown",
   "metadata": {},
   "source": [
    "Problem:\n",
    "Write a program that enters a number n and triangle prints from dollars."
   ]
  },
  {
   "cell_type": "code",
   "execution_count": 9,
   "metadata": {},
   "outputs": [
    {
     "name": "stdout",
     "output_type": "stream",
     "text": [
      "5\n",
      "$ \n",
      "$ $ \n",
      "$ $ $ \n",
      "$ $ $ $ \n",
      "$ $ $ $ $ \n"
     ]
    }
   ],
   "source": [
    "n = int(input())\n",
    "\n",
    "\n",
    "\n",
    "for i in range(0, n):\n",
    "    print(\"$ \" * (i + 1))"
   ]
  },
  {
   "cell_type": "markdown",
   "metadata": {},
   "source": [
    "<h2>05.Square Frame</h2>"
   ]
  },
  {
   "cell_type": "markdown",
   "metadata": {},
   "source": [
    "Problem:\n",
    "Write a program that introduces a positive integer n and draws the console square frame with size n * n.\n"
   ]
  },
  {
   "cell_type": "code",
   "execution_count": 12,
   "metadata": {},
   "outputs": [
    {
     "name": "stdout",
     "output_type": "stream",
     "text": [
      "5\n",
      "+ - - - +\n",
      "| - - - |\n",
      "| - - - |\n",
      "| - - - |\n",
      "+ - - - +\n"
     ]
    }
   ],
   "source": [
    "n = int(input())\n",
    "\n",
    "minuses = n - 2\n",
    "\n",
    "print(\"+ \" + \"- \" * minuses + \"+\")\n",
    "\n",
    "for i in range(0, n - 2):\n",
    "    print(\"| \" + \"- \" * minuses + \"|\")\n",
    "\n",
    "print(\"+ \" + \"- \" * minuses + \"+\")\n"
   ]
  },
  {
   "cell_type": "markdown",
   "metadata": {},
   "source": [
    "<h2>06.Rhombus of Stars</h2>"
   ]
  },
  {
   "cell_type": "markdown",
   "metadata": {},
   "source": [
    "Problem:\n",
    "Write a program that introduces a positive integer n and prints a diamond-sized nugget."
   ]
  },
  {
   "cell_type": "code",
   "execution_count": 14,
   "metadata": {},
   "outputs": [
    {
     "name": "stdout",
     "output_type": "stream",
     "text": [
      "5\n",
      "    * \n",
      "   * * \n",
      "  * * * \n",
      " * * * * \n",
      "* * * * * \n",
      " * * * * \n",
      "  * * * \n",
      "   * * \n",
      "    * \n"
     ]
    }
   ],
   "source": [
    "n = int(input())\n",
    "\n",
    "spaces = ' '\n",
    "asterisk = '*'\n",
    "for i in range(1, (n * 2) ):\n",
    "\n",
    "    if i <= n:\n",
    "        spaces = n - i\n",
    "        asterisk = i\n",
    "        print(\" \" * spaces + \"* \" * asterisk)\n",
    "\n",
    "    else:\n",
    "        spaces = i - n\n",
    "        asterisk = n * 2 - i\n",
    "        print(\" \" * spaces + \"* \" * asterisk)"
   ]
  },
  {
   "cell_type": "markdown",
   "metadata": {},
   "source": [
    "<h2>07.Christmas Tree</h2>"
   ]
  },
  {
   "cell_type": "markdown",
   "metadata": {},
   "source": [
    "Problem:\n",
    "Write a program that enters a number n (1 ≤ n ≤ 100) and prints a Christmas tree size n."
   ]
  },
  {
   "cell_type": "code",
   "execution_count": 16,
   "metadata": {},
   "outputs": [
    {
     "name": "stdout",
     "output_type": "stream",
     "text": [
      "5\n",
      "      |      \n",
      "    * | *    \n",
      "   ** | **   \n",
      "  *** | ***  \n",
      " **** | **** \n",
      "***** | *****\n"
     ]
    }
   ],
   "source": [
    "n = int(input())\n",
    "\n",
    "spaces = \" \"\n",
    "\n",
    "for i in range(0, n + 1):\n",
    "\n",
    "    spaces = n - i\n",
    "    print(\" \" * spaces + \"*\" * i + \" | \" + \"*\" * i + \" \" * spaces)"
   ]
  },
  {
   "cell_type": "markdown",
   "metadata": {},
   "source": [
    "<h2>08.Sunglasses</h2>"
   ]
  },
  {
   "cell_type": "markdown",
   "metadata": {},
   "source": [
    "Problem:\n",
    "Write a program that introduces an integer n (3 ≤ n ≤ 100) and print sunglasses of size 5 * n x n."
   ]
  },
  {
   "cell_type": "code",
   "execution_count": 20,
   "metadata": {},
   "outputs": [
    {
     "name": "stdout",
     "output_type": "stream",
     "text": [
      "6\n",
      "************      ************\n",
      "*//////////*      *//////////*\n",
      "*//////////*||||||*//////////*\n",
      "*//////////*      *//////////*\n",
      "*//////////*      *//////////*\n"
     ]
    }
   ],
   "source": [
    "n = int(input())\n",
    "\n",
    "asterisk = \"*\"\n",
    "slash = \"/\"\n",
    "spaces = \" \"\n",
    "\n",
    "asterisk = 2 * n\n",
    "spaces = n\n",
    "\n",
    "print(\"*\" * asterisk + \" \" * spaces + \"*\" * asterisk)\n",
    "\n",
    "for i in range(1, (n - 2) + 1):\n",
    "\n",
    "    if n % 2 == 0:\n",
    "        if i == n / 2 - 1:\n",
    "\n",
    "            slash = 2 * n - 2\n",
    "            print(\"*\" + \"/\" * slash + \"*\" + \"|\" * n + \"*\" + \"/\" * slash + \"*\")\n",
    "\n",
    "        else:\n",
    "            spaces = 2 *n - 2\n",
    "            print(\"*\" + \"/\" * spaces + \"*\" + \" \" * n + \"*\" + \"/\" * spaces + \"*\")\n",
    "\n",
    "\n",
    "    else:\n",
    "        if i == n // 2:\n",
    "\n",
    "            slash = 2 * n - 2\n",
    "            print(\"*\" + \"/\" * slash + \"*\" + \"|\" * n + \"*\" + \"/\" * slash + \"*\")\n",
    "\n",
    "        else:\n",
    "            spaces = 2 *n - 2\n",
    "            print(\"*\" + \"/\" * spaces + \"*\" + \" \" * n + \"*\" + \"/\" * spaces + \"*\")\n"
   ]
  },
  {
   "cell_type": "markdown",
   "metadata": {},
   "source": [
    "<h2>09.House</h2>"
   ]
  },
  {
   "cell_type": "markdown",
   "metadata": {},
   "source": [
    "Problem:\n",
    "Write a program that introduces a number n (2 ≤ n ≤ 100) and prints a cot with a size n x n."
   ]
  },
  {
   "cell_type": "code",
   "execution_count": 22,
   "metadata": {},
   "outputs": [
    {
     "name": "stdout",
     "output_type": "stream",
     "text": [
      "10\n",
      "----**----\n",
      "---****---\n",
      "--******--\n",
      "-********-\n",
      "**********\n",
      "|********|\n",
      "|********|\n",
      "|********|\n",
      "|********|\n",
      "|********|\n"
     ]
    }
   ],
   "source": [
    "n = int(input())\n",
    "\n",
    "asterisk = \"*\"\n",
    "minuses = \"-\"\n",
    "\n",
    "for i in range(1, n + 1):\n",
    "\n",
    "    if n % 2 == 0 and i % 2 == 0:\n",
    "        asterisk = i\n",
    "        minuses = (n - i ) // 2\n",
    "        print(\"-\" * minuses + \"*\" * asterisk + \"-\" * minuses)\n",
    "\n",
    "    elif n % 2 != 0 and i % 2 != 0:\n",
    "        asterisk = i\n",
    "        minuses = (n - i) // 2\n",
    "        print(\"-\" * minuses + \"*\" * asterisk + \"-\" * minuses)\n",
    "\n",
    "\n",
    "for i in range(0 , n // 2):\n",
    "    print(\"|\" + \"*\" * (n -2) + \"|\")\n"
   ]
  }
 ],
 "metadata": {
  "kernelspec": {
   "display_name": "Python 3",
   "language": "python",
   "name": "python3"
  },
  "language_info": {
   "codemirror_mode": {
    "name": "ipython",
    "version": 3
   },
   "file_extension": ".py",
   "mimetype": "text/x-python",
   "name": "python",
   "nbconvert_exporter": "python",
   "pygments_lexer": "ipython3",
   "version": "3.6.4"
  }
 },
 "nbformat": 4,
 "nbformat_minor": 2
}
