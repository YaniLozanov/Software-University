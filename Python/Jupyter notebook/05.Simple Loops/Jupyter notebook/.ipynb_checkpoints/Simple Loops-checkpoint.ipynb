{
 "cells": [
  {
   "cell_type": "code",
   "execution_count": 1,
   "metadata": {},
   "outputs": [],
   "source": [
    "%matplotlib inline"
   ]
  },
  {
   "cell_type": "markdown",
   "metadata": {},
   "source": [
    "<h1 align=\"center\">Simple Loops</h1>"
   ]
  },
  {
   "cell_type": "markdown",
   "metadata": {},
   "source": [
    "<h2>01.Numbers from 1 to 100</h2>"
   ]
  },
  {
   "cell_type": "markdown",
   "metadata": {},
   "source": [
    "Problem:\n",
    "Write a program that **prints** the numbers from **1 to 100**, one per line."
   ]
  },
  {
   "cell_type": "code",
   "execution_count": 4,
   "metadata": {},
   "outputs": [
    {
     "name": "stdout",
     "output_type": "stream",
     "text": [
      "1\n",
      "2\n",
      "3\n",
      "4\n",
      "5\n",
      "6\n",
      "7\n",
      "8\n",
      "9\n",
      "10\n",
      "11\n",
      "12\n",
      "13\n",
      "14\n",
      "15\n",
      "16\n",
      "17\n",
      "18\n",
      "19\n",
      "20\n",
      "21\n",
      "22\n",
      "23\n",
      "24\n",
      "25\n",
      "26\n",
      "27\n",
      "28\n",
      "29\n",
      "30\n",
      "31\n",
      "32\n",
      "33\n",
      "34\n",
      "35\n",
      "36\n",
      "37\n",
      "38\n",
      "39\n",
      "40\n",
      "41\n",
      "42\n",
      "43\n",
      "44\n",
      "45\n",
      "46\n",
      "47\n",
      "48\n",
      "49\n",
      "50\n",
      "51\n",
      "52\n",
      "53\n",
      "54\n",
      "55\n",
      "56\n",
      "57\n",
      "58\n",
      "59\n",
      "60\n",
      "61\n",
      "62\n",
      "63\n",
      "64\n",
      "65\n",
      "66\n",
      "67\n",
      "68\n",
      "69\n",
      "70\n",
      "71\n",
      "72\n",
      "73\n",
      "74\n",
      "75\n",
      "76\n",
      "77\n",
      "78\n",
      "79\n",
      "80\n",
      "81\n",
      "82\n",
      "83\n",
      "84\n",
      "85\n",
      "86\n",
      "87\n",
      "88\n",
      "89\n",
      "90\n",
      "91\n",
      "92\n",
      "93\n",
      "94\n",
      "95\n",
      "96\n",
      "97\n",
      "98\n",
      "99\n",
      "100\n"
     ]
    }
   ],
   "source": [
    "for i in range(1,101):\n",
    "    print(i)\n"
   ]
  },
  {
   "cell_type": "markdown",
   "metadata": {},
   "source": [
    "<h2>02. Numbers Ending in 7</h2>"
   ]
  },
  {
   "cell_type": "markdown",
   "metadata": {},
   "source": [
    "Problem:\n",
    "Write a program that prints the numbers in the range [1 ... 1000], ending at 7."
   ]
  },
  {
   "cell_type": "code",
   "execution_count": 6,
   "metadata": {},
   "outputs": [
    {
     "name": "stdout",
     "output_type": "stream",
     "text": [
      "7\n",
      "17\n",
      "27\n",
      "37\n",
      "47\n",
      "57\n",
      "67\n",
      "77\n",
      "87\n",
      "97\n",
      "107\n",
      "117\n",
      "127\n",
      "137\n",
      "147\n",
      "157\n",
      "167\n",
      "177\n",
      "187\n",
      "197\n",
      "207\n",
      "217\n",
      "227\n",
      "237\n",
      "247\n",
      "257\n",
      "267\n",
      "277\n",
      "287\n",
      "297\n",
      "307\n",
      "317\n",
      "327\n",
      "337\n",
      "347\n",
      "357\n",
      "367\n",
      "377\n",
      "387\n",
      "397\n",
      "407\n",
      "417\n",
      "427\n",
      "437\n",
      "447\n",
      "457\n",
      "467\n",
      "477\n",
      "487\n",
      "497\n",
      "507\n",
      "517\n",
      "527\n",
      "537\n",
      "547\n",
      "557\n",
      "567\n",
      "577\n",
      "587\n",
      "597\n",
      "607\n",
      "617\n",
      "627\n",
      "637\n",
      "647\n",
      "657\n",
      "667\n",
      "677\n",
      "687\n",
      "697\n",
      "707\n",
      "717\n",
      "727\n",
      "737\n",
      "747\n",
      "757\n",
      "767\n",
      "777\n",
      "787\n",
      "797\n",
      "807\n",
      "817\n",
      "827\n",
      "837\n",
      "847\n",
      "857\n",
      "867\n",
      "877\n",
      "887\n",
      "897\n",
      "907\n",
      "917\n",
      "927\n",
      "937\n",
      "947\n",
      "957\n",
      "967\n",
      "977\n",
      "987\n",
      "997\n"
     ]
    }
   ],
   "source": [
    "for i in range(1,1001):\n",
    "    if i % 10 == 7:\n",
    "        print(i)\n"
   ]
  },
  {
   "cell_type": "markdown",
   "metadata": {},
   "source": [
    "<h2>03.Latin Letters</h2>"
   ]
  },
  {
   "cell_type": "markdown",
   "metadata": {},
   "source": [
    "Problem:\n",
    "Write a program that prints all the letters of the Latin alphabet: a, b, c, ..., z."
   ]
  },
  {
   "cell_type": "code",
   "execution_count": 9,
   "metadata": {},
   "outputs": [
    {
     "name": "stdout",
     "output_type": "stream",
     "text": [
      "a\n",
      "b\n",
      "c\n",
      "d\n",
      "e\n",
      "f\n",
      "g\n",
      "h\n",
      "i\n",
      "j\n",
      "k\n",
      "l\n",
      "m\n",
      "n\n",
      "o\n",
      "p\n",
      "q\n",
      "r\n",
      "s\n",
      "t\n",
      "u\n",
      "v\n",
      "w\n",
      "x\n",
      "y\n",
      "z\n"
     ]
    }
   ],
   "source": [
    "for i in range(97,123):\n",
    "    print(chr(i))\n"
   ]
  },
  {
   "cell_type": "markdown",
   "metadata": {},
   "source": [
    "<h2>04.Sum Numbers</h2>"
   ]
  },
  {
   "cell_type": "markdown",
   "metadata": {},
   "source": [
    "Problem:\n",
    "Write a program that reads a number of integer numbers entered by the user and sums them."
   ]
  },
  {
   "cell_type": "code",
   "execution_count": 12,
   "metadata": {},
   "outputs": [
    {
     "name": "stdout",
     "output_type": "stream",
     "text": [
      "5\n",
      "5\n",
      "5\n",
      "4\n",
      "4\n",
      "4\n",
      "22\n"
     ]
    }
   ],
   "source": [
    "num_of_loops = int(input())\n",
    "\n",
    "sum = 0;\n",
    "\n",
    "for i in range(1, num_of_loops + 1):\n",
    "    num = int(input())\n",
    "\n",
    "    sum += num\n",
    "\n",
    "print(sum)"
   ]
  },
  {
   "cell_type": "markdown",
   "metadata": {},
   "source": [
    "<h2>05.Max Number</h2>"
   ]
  },
  {
   "cell_type": "markdown",
   "metadata": {},
   "source": [
    "Problem:\n",
    "Write a program that reads n number of integers (n > 0) entered by the user,\n",
    "the greatest among them. First, the number of ns is entered, and then the n numbers themselves, one per line."
   ]
  },
  {
   "cell_type": "code",
   "execution_count": 14,
   "metadata": {},
   "outputs": [
    {
     "name": "stdout",
     "output_type": "stream",
     "text": [
      "2\n",
      "5\n",
      "100\n",
      "100\n"
     ]
    }
   ],
   "source": [
    "num_of_loops = int(input())\n",
    "\n",
    "new_num = 0\n",
    "max_num = 9223372036854775807 * (-1)\n",
    "\n",
    "\n",
    "for i in range(1 , num_of_loops + 1):\n",
    "    new_num = int(input())\n",
    "\n",
    "    if  new_num > max_num:\n",
    "        max_num = new_num\n",
    "\n",
    "\n",
    "print(max_num)\n"
   ]
  },
  {
   "cell_type": "markdown",
   "metadata": {},
   "source": [
    "<h2>06.Min Number</h2>"
   ]
  },
  {
   "cell_type": "markdown",
   "metadata": {},
   "source": [
    "Problem:\n",
    "Write a program that reads n number of integers (n > 0) entered by the user,\n",
    "few of them. First, the number of ns is entered, and then the n numbers themselves, one per line."
   ]
  },
  {
   "cell_type": "code",
   "execution_count": 16,
   "metadata": {},
   "outputs": [
    {
     "name": "stdout",
     "output_type": "stream",
     "text": [
      "5\n",
      "5\n",
      "6\n",
      "7\n",
      "8\n",
      "9\n",
      "5\n"
     ]
    }
   ],
   "source": [
    "num_of_loops = int(input())\n",
    "\n",
    "min_num = 9223372036854775807\n",
    "new_num  = 0\n",
    "\n",
    "for i in range(1, num_of_loops + 1):\n",
    "    new_num = int(input())\n",
    "\n",
    "    if new_num < min_num:\n",
    "        min_num = new_num\n",
    "\n",
    "print(min_num)"
   ]
  },
  {
   "cell_type": "markdown",
   "metadata": {},
   "source": [
    "<h2>07.Left and Right Sum</h2>"
   ]
  },
  {
   "cell_type": "markdown",
   "metadata": {},
   "source": [
    "Problem:\n",
    "Write a program that reads 2 * ns of whole integers filed by the user and checks if\n",
    "the sum of the first n numbers (left sum) is equal to the sum of the second n numbers (right amount).\n",
    "In case of equality print \"Yes\" + the sum; otherwise \"No\" + difference.\n",
    "The difference is calculated as a positive number (inabsolute value)."
   ]
  },
  {
   "cell_type": "code",
   "execution_count": 18,
   "metadata": {},
   "outputs": [
    {
     "name": "stdout",
     "output_type": "stream",
     "text": [
      "5\n",
      "5\n",
      "9\n",
      "74\n",
      "2\n",
      "3\n",
      "4\n",
      "5\n",
      "9\n",
      "7\n",
      "5\n",
      "No, diff = 63.0\n"
     ]
    }
   ],
   "source": [
    "import  math\n",
    "\n",
    "num_of_loops  = int(input())\n",
    "\n",
    "first_sum = 0\n",
    "second_sum = 0\n",
    "\n",
    "difference = 0\n",
    "\n",
    "for i in range(1, num_of_loops * 2 + 1):\n",
    "\n",
    "    number = int(input())\n",
    "\n",
    "    if i <= num_of_loops:\n",
    "        first_sum += number\n",
    "\n",
    "    else:\n",
    "        second_sum += number\n",
    "\n",
    "\n",
    "difference = math.fabs(first_sum - second_sum)\n",
    "\n",
    "if difference == 0:\n",
    "    print(f\"Yes, sum = {first_sum}\")\n",
    "\n",
    "else:\n",
    "    print(f\"No, diff = {difference}\")"
   ]
  },
  {
   "cell_type": "markdown",
   "metadata": {},
   "source": [
    "<h2>08.Odd Even Sum</h2>"
   ]
  },
  {
   "cell_type": "markdown",
   "metadata": {},
   "source": [
    " Problem:\n",
    "Write a program that reads the numbers submitted by the user and checks the sum of the even positions is equal to the sum of the odd numbers.\n",
    "In the case of equality, the \"Yes\" + amount is printed; otherwise you can print the \"No\" + difference. The difference is calculated in absolute terms value.\n"
   ]
  },
  {
   "cell_type": "code",
   "execution_count": 19,
   "metadata": {},
   "outputs": [
    {
     "name": "stdout",
     "output_type": "stream",
     "text": [
      "5\n",
      "9\n",
      "7\n",
      "97\n",
      "25\n",
      "3\n",
      "No, diff = 77.0\n"
     ]
    }
   ],
   "source": [
    "import  math\n",
    "\n",
    "num_of_loops = int(input())\n",
    "\n",
    "odd_sum = 0\n",
    "even_sum = 0\n",
    "difference = 0\n",
    "\n",
    "for i in range(1,num_of_loops + 1):\n",
    "\n",
    "    num = int(input())\n",
    "\n",
    "    if i % 2 != 0:\n",
    "        odd_sum += num\n",
    "\n",
    "    else:\n",
    "        even_sum += num\n",
    "\n",
    "difference = math.fabs(odd_sum - even_sum)\n",
    "\n",
    "if difference == 0:\n",
    "    print(f\"Yes, sum = {odd_sum}\")\n",
    "\n",
    "else:\n",
    "    print(f\"No, diff = {difference}\")\n"
   ]
  },
  {
   "cell_type": "markdown",
   "metadata": {},
   "source": [
    "<h2>09.Vowels Sum</h2>"
   ]
  },
  {
   "cell_type": "markdown",
   "metadata": {},
   "source": [
    "Problem:\n",
    "Write a program that reads a text (string) entered by the user and calculates and prints the amount of the values of the uppercase letters in the table below:\n",
    "\n",
    "|  letter | a  |  e | i  | o  | u  |\n",
    "|---|---|---|---|---|---|\n",
    "|  value | 1  |  2 | 3  | 4  | 5 |"
   ]
  },
  {
   "cell_type": "markdown",
   "metadata": {},
   "source": [
    "<h2>10.Element equal to the sum of the rest</h2>\n"
   ]
  },
  {
   "cell_type": "markdown",
   "metadata": {},
   "source": [
    "Problem:\n",
    "Write a program that reads n-number integer numbers entered by the user and checks if among\n",
    "there is a number that is equal to the sum of all others. If there is such an item, print \"Yes ,Sum =  + its value\" otherwise the \"No\", \"Diff =  + the difference between the largest element and the sum of the rest\" (in absolute terms).\n"
   ]
  },
  {
   "cell_type": "code",
   "execution_count": 22,
   "metadata": {},
   "outputs": [
    {
     "name": "stdout",
     "output_type": "stream",
     "text": [
      "5\n",
      "5\n",
      "9\n",
      "47\n",
      "8\n",
      "2\n",
      "No, diff = 23.0\n"
     ]
    }
   ],
   "source": [
    "import  math\n",
    "\n",
    "num_of_loops = int(input())\n",
    "\n",
    "sum = 0\n",
    "max_num = 0\n",
    "new_num = 0\n",
    "\n",
    "for i in range(1 , num_of_loops + 1):\n",
    "\n",
    "    new_num = int(input())\n",
    "\n",
    "    if new_num > max_num:\n",
    "        max_num = new_num\n",
    "\n",
    "    sum += new_num\n",
    "\n",
    "\n",
    "\n",
    "if sum / 2 == max_num:\n",
    "    print(f\"Yes, Sum = {max_num}\")\n",
    "\n",
    "else:\n",
    "    print(f\"No, diff = {math.fabs((sum - max_num) - max_num)}\")"
   ]
  },
  {
   "cell_type": "markdown",
   "metadata": {},
   "source": [
    "<h2>11.Even or Odd positions</h2>"
   ]
  },
  {
   "cell_type": "markdown",
   "metadata": {},
   "source": [
    " Problem:\n",
    "Write a program that reads n-number numbers entered by the user and calculates the amount, minimum and the maximum of the even and odd numbers (1 count). When there is no minimum / maximum item, print \"No\"."
   ]
  },
  {
   "cell_type": "code",
   "execution_count": 24,
   "metadata": {},
   "outputs": [
    {
     "name": "stdout",
     "output_type": "stream",
     "text": [
      "5\n",
      "8\n",
      "69\n",
      "7\n",
      "8\n",
      "1\n",
      "OddSum = 16.0\n",
      "OddMin = 1.0,\n",
      "OddMax = 8.0,\n",
      "EvenSum = 77.0,\n",
      "EvenMin = 8.0,\n",
      "EvenMax = 69.0\n"
     ]
    }
   ],
   "source": [
    "import  math\n",
    "num_of_loops = int(input())\n",
    "\n",
    "odd_sum = 0\n",
    "odd_min = math.inf\n",
    "odd_max = math.inf * (-1)\n",
    "\n",
    "even_sum = 0\n",
    "even_min = math.inf\n",
    "even_max = math.inf * (-1)\n",
    "\n",
    "new_num = 0\n",
    "\n",
    "for i in range(1, num_of_loops + 1):\n",
    "\n",
    "    new_num = float(input())\n",
    "\n",
    "    if i % 2 != 0:\n",
    "        odd_sum += new_num\n",
    "\n",
    "        if new_num < odd_min:\n",
    "            odd_min = new_num\n",
    "\n",
    "        if new_num > odd_max:\n",
    "            odd_max = new_num\n",
    "\n",
    "    else:\n",
    "        even_sum += new_num\n",
    "\n",
    "        if new_num < even_min:\n",
    "            even_min = new_num\n",
    "\n",
    "        if  new_num > even_max:\n",
    "            even_max = new_num\n",
    "\n",
    "if odd_sum == 0:\n",
    "    print(f\"OddSum = 0\")\n",
    "\n",
    "else:\n",
    "    print(f\"OddSum = {odd_sum}\")\n",
    "\n",
    "if odd_min != math.inf:\n",
    "    print(f\"OddMin = {odd_min},\")\n",
    "\n",
    "else:\n",
    "    print(f\"OddMin = No,\")\n",
    "\n",
    "\n",
    "if odd_max != (math.inf * (-1)):\n",
    "    print(f\"OddMax = {odd_max},\")\n",
    "\n",
    "else:\n",
    "    print(\"OddMax = No,\")\n",
    "\n",
    "\n",
    "if even_sum == 0:\n",
    "    print(f\"EvenSum = 0,\")\n",
    "\n",
    "else:\n",
    "    print(f\"EvenSum = {even_sum},\")\n",
    "\n",
    "if even_min != math.inf:\n",
    "    print(f\"EvenMin = {even_min},\")\n",
    "\n",
    "else:\n",
    "    print(\"EvenMin = No,\")\n",
    "\n",
    "\n",
    "\n",
    "if even_max != (math.inf * (-1)):\n",
    "    print(f\"EvenMax = {even_max}\")\n",
    "\n",
    "\n",
    "else:\n",
    "    print(f\"EvenMax = No\")\n",
    "\n"
   ]
  },
  {
   "cell_type": "markdown",
   "metadata": {},
   "source": [
    "<h2>12.The same pairs</h2>"
   ]
  },
  {
   "cell_type": "markdown",
   "metadata": {},
   "source": [
    "Problem:\n",
    "Given are 2 * n-numbered numbers.\n",
    "The first and the second form a pair, the third and the fourth also, etc.\n",
    "Each pair has value - the sum of its numbers.\n",
    "Write a program that checks if everyone pairs have the same value or print the maximum difference between two consecutive pairs.\n",
    "If all pairs have the same value,print: \"Yes, value = {Value} + value\".\n",
    "Otherwise print \"No, maxdiff = {Difference} \" + maximum difference."
   ]
  },
  {
   "cell_type": "code",
   "execution_count": 26,
   "metadata": {
    "scrolled": true
   },
   "outputs": [
    {
     "name": "stdout",
     "output_type": "stream",
     "text": [
      "5\n",
      "9\n",
      "4\n",
      "32\n",
      "2\n",
      "4\n",
      "7\n",
      "8\n",
      "2\n",
      "5\n",
      "8\n",
      "No, maxdiff = 23.0\n"
     ]
    }
   ],
   "source": [
    "import  math\n",
    "\n",
    "num_of_loops = int(input())\n",
    "\n",
    "num_1 = 0\n",
    "num_2 = 0\n",
    "\n",
    "first_pair = 0\n",
    "second_pair = 0\n",
    "\n",
    "max_num_of_equal_pairs = 0\n",
    "max_diff = 0\n",
    "difference = 0\n",
    "\n",
    "\n",
    "for i in range(1, num_of_loops + 1):\n",
    "\n",
    "     num_1 = int(input())\n",
    "     num_2 = int(input())\n",
    "\n",
    "     if i % 2 != 0:\n",
    "          first_pair = num_1 + num_2\n",
    "\n",
    "     else:\n",
    "          second_pair = num_1 + num_2\n",
    "\n",
    "     if first_pair == second_pair:\n",
    "          max_num_of_equal_pairs += 1\n",
    "\n",
    "     difference = math.fabs(first_pair - second_pair)\n",
    "\n",
    "     if difference > max_diff and i > 1:\n",
    "          max_diff = difference\n",
    "\n",
    "\n",
    "\n",
    "if (max_num_of_equal_pairs + 1) == num_of_loops:\n",
    "     print(f\"Yes, value = {first_pair}\")\n",
    "\n",
    "else:\n",
    "     print(f\"No, maxdiff = {max_diff}\")\n"
   ]
  }
 ],
 "metadata": {
  "kernelspec": {
   "display_name": "Python 3",
   "language": "python",
   "name": "python3"
  },
  "language_info": {
   "codemirror_mode": {
    "name": "ipython",
    "version": 3
   },
   "file_extension": ".py",
   "mimetype": "text/x-python",
   "name": "python",
   "nbconvert_exporter": "python",
   "pygments_lexer": "ipython3",
   "version": "3.6.4"
  }
 },
 "nbformat": 4,
 "nbformat_minor": 2
}
